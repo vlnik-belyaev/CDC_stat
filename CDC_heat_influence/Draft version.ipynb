{
 "cells": [
  {
   "cell_type": "markdown",
   "metadata": {},
   "source": [
    "# Описание проекта\n",
    "Здесь должно находиться Лого проекта, и его описание. Мотивация, средства. Указать ссылки на используемые ресурсы. Так как ипользуется html, то все картинки должны быть расположены на доступных сервисах\n",
    "\n",
    "Можно указать, что используется вычислительная платформа Анаконда (Картинки logo Anaconda & Jupyter)\n",
    "<p><img class=\"logo logo-dark\" alt=\"logo\" src=\"https://www.anaconda.com/wp-content/themes/anaconda/images/logo-dark.png\"></p>"
   ]
  },
  {
   "cell_type": "code",
   "execution_count": 1,
   "metadata": {
    "collapsed": true
   },
   "outputs": [],
   "source": [
    "#some initial setup\n",
    "# Importing pandas\n",
    "import pandas as pd\n",
    "# This command makes plots appear in the notebook\n",
    "%matplotlib inline"
   ]
  },
  {
   "cell_type": "markdown",
   "metadata": {},
   "source": [
    "# Загрузка данных\n",
    "Первоначально данные загружаются с ресурса <a href=\"https://wonder.cdc.gov\">CDC WONDER</a> в виде текстовых файлов. Затем эти сырые данные нужно загрузить в память в так называемые фреймы данных <b>pandas</b>:"
   ]
  },
  {
   "cell_type": "code",
   "execution_count": 11,
   "metadata": {
    "collapsed": false
   },
   "outputs": [
    {
     "name": "stdout",
     "output_type": "stream",
     "text": [
      "   Notes       State  State Code  Year  Year Code Month  Month Code  \\\n",
      "0    NaN  California           6  1999       1999   Jan           1   \n",
      "1    NaN  California           6  1999       1999   Jan           1   \n",
      "2    NaN  California           6  1999       1999   Jan           1   \n",
      "3    NaN  California           6  1999       1999   Jan           1   \n",
      "4    NaN  California           6  1999       1999   Jan           1   \n",
      "\n",
      "   Day of Month  Day of Month Code  Avg Daily Max Air Temperature (C)  \n",
      "0             1                  1                              13.35  \n",
      "1             2                  2                              14.78  \n",
      "2             3                  3                              13.77  \n",
      "3             4                  4                              14.32  \n",
      "4             5                  5                              14.89  \n"
     ]
    }
   ],
   "source": [
    "# Assign filename: file\n",
    "file = 'datasets/maxTempByMonthYear1999-2011completeCalifornia.txt'\n",
    "\n",
    "# Import file: data\n",
    "raw_temp_data = pd.read_csv(file, sep='\\t',\n",
    "                            converters={\"Year\":int, \n",
    "                                        'Month Code':int, \n",
    "                                        'Day of Month':int,\n",
    "                                        'Avg Daily Max Air Temperature (C)':float}\n",
    "                           )\n",
    "\n",
    "# Print the head of the DataFrame\n",
    "print(raw_temp_data.head())"
   ]
  },
  {
   "cell_type": "markdown",
   "metadata": {},
   "source": [
    "Теперь нужно избавиться от лишнего, создадим новый фрейм с колонками для дат и максимальной температуры:"
   ]
  },
  {
   "cell_type": "code",
   "execution_count": 12,
   "metadata": {
    "collapsed": false
   },
   "outputs": [
    {
     "name": "stdout",
     "output_type": "stream",
     "text": [
      "<class 'pandas.core.frame.DataFrame'>\n",
      "RangeIndex: 4514 entries, 0 to 4513\n",
      "Data columns (total 10 columns):\n",
      "Notes                                0 non-null float64\n",
      "State                                4514 non-null object\n",
      "State Code                           4514 non-null int64\n",
      "Year                                 4514 non-null int64\n",
      "Year Code                            4514 non-null int64\n",
      "Month                                4514 non-null object\n",
      "Month Code                           4514 non-null int64\n",
      "Day of Month                         4514 non-null int64\n",
      "Day of Month Code                    4514 non-null int64\n",
      "Avg Daily Max Air Temperature (C)    4514 non-null float64\n",
      "dtypes: float64(2), int64(6), object(2)\n",
      "memory usage: 352.7+ KB\n"
     ]
    }
   ],
   "source": [
    "raw_temp_data.info()"
   ]
  },
  {
   "cell_type": "code",
   "execution_count": 13,
   "metadata": {
    "collapsed": true
   },
   "outputs": [],
   "source": [
    "california_temp_data = raw_temp_data[['State', 'Year', 'Month Code', 'Day of Month', 'Avg Daily Max Air Temperature (C)']]"
   ]
  },
  {
   "cell_type": "code",
   "execution_count": 14,
   "metadata": {
    "collapsed": false
   },
   "outputs": [
    {
     "data": {
      "text/html": [
       "<div>\n",
       "<style>\n",
       "    .dataframe thead tr:only-child th {\n",
       "        text-align: right;\n",
       "    }\n",
       "\n",
       "    .dataframe thead th {\n",
       "        text-align: left;\n",
       "    }\n",
       "\n",
       "    .dataframe tbody tr th {\n",
       "        vertical-align: top;\n",
       "    }\n",
       "</style>\n",
       "<table border=\"1\" class=\"dataframe\">\n",
       "  <thead>\n",
       "    <tr style=\"text-align: right;\">\n",
       "      <th></th>\n",
       "      <th>State</th>\n",
       "      <th>Year</th>\n",
       "      <th>Month Code</th>\n",
       "      <th>Day of Month</th>\n",
       "      <th>Avg Daily Max Air Temperature (C)</th>\n",
       "    </tr>\n",
       "  </thead>\n",
       "  <tbody>\n",
       "    <tr>\n",
       "      <th>0</th>\n",
       "      <td>California</td>\n",
       "      <td>1999</td>\n",
       "      <td>1</td>\n",
       "      <td>1</td>\n",
       "      <td>13.35</td>\n",
       "    </tr>\n",
       "    <tr>\n",
       "      <th>1</th>\n",
       "      <td>California</td>\n",
       "      <td>1999</td>\n",
       "      <td>1</td>\n",
       "      <td>2</td>\n",
       "      <td>14.78</td>\n",
       "    </tr>\n",
       "    <tr>\n",
       "      <th>2</th>\n",
       "      <td>California</td>\n",
       "      <td>1999</td>\n",
       "      <td>1</td>\n",
       "      <td>3</td>\n",
       "      <td>13.77</td>\n",
       "    </tr>\n",
       "    <tr>\n",
       "      <th>3</th>\n",
       "      <td>California</td>\n",
       "      <td>1999</td>\n",
       "      <td>1</td>\n",
       "      <td>4</td>\n",
       "      <td>14.32</td>\n",
       "    </tr>\n",
       "    <tr>\n",
       "      <th>4</th>\n",
       "      <td>California</td>\n",
       "      <td>1999</td>\n",
       "      <td>1</td>\n",
       "      <td>5</td>\n",
       "      <td>14.89</td>\n",
       "    </tr>\n",
       "  </tbody>\n",
       "</table>\n",
       "</div>"
      ],
      "text/plain": [
       "        State  Year  Month Code  Day of Month  \\\n",
       "0  California  1999           1             1   \n",
       "1  California  1999           1             2   \n",
       "2  California  1999           1             3   \n",
       "3  California  1999           1             4   \n",
       "4  California  1999           1             5   \n",
       "\n",
       "   Avg Daily Max Air Temperature (C)  \n",
       "0                              13.35  \n",
       "1                              14.78  \n",
       "2                              13.77  \n",
       "3                              14.32  \n",
       "4                              14.89  "
      ]
     },
     "execution_count": 14,
     "metadata": {},
     "output_type": "execute_result"
    }
   ],
   "source": [
    "california_temp_data.head()"
   ]
  },
  {
   "cell_type": "code",
   "execution_count": 15,
   "metadata": {
    "collapsed": true
   },
   "outputs": [],
   "source": [
    "california_temp_data.columns = ['state','year', 'month','day','max_temp']"
   ]
  },
  {
   "cell_type": "code",
   "execution_count": 16,
   "metadata": {
    "collapsed": false
   },
   "outputs": [
    {
     "data": {
      "text/html": [
       "<div>\n",
       "<style>\n",
       "    .dataframe thead tr:only-child th {\n",
       "        text-align: right;\n",
       "    }\n",
       "\n",
       "    .dataframe thead th {\n",
       "        text-align: left;\n",
       "    }\n",
       "\n",
       "    .dataframe tbody tr th {\n",
       "        vertical-align: top;\n",
       "    }\n",
       "</style>\n",
       "<table border=\"1\" class=\"dataframe\">\n",
       "  <thead>\n",
       "    <tr style=\"text-align: right;\">\n",
       "      <th></th>\n",
       "      <th>state</th>\n",
       "      <th>year</th>\n",
       "      <th>month</th>\n",
       "      <th>day</th>\n",
       "      <th>max_temp</th>\n",
       "    </tr>\n",
       "  </thead>\n",
       "  <tbody>\n",
       "    <tr>\n",
       "      <th>0</th>\n",
       "      <td>California</td>\n",
       "      <td>1999</td>\n",
       "      <td>1</td>\n",
       "      <td>1</td>\n",
       "      <td>13.35</td>\n",
       "    </tr>\n",
       "    <tr>\n",
       "      <th>1</th>\n",
       "      <td>California</td>\n",
       "      <td>1999</td>\n",
       "      <td>1</td>\n",
       "      <td>2</td>\n",
       "      <td>14.78</td>\n",
       "    </tr>\n",
       "    <tr>\n",
       "      <th>2</th>\n",
       "      <td>California</td>\n",
       "      <td>1999</td>\n",
       "      <td>1</td>\n",
       "      <td>3</td>\n",
       "      <td>13.77</td>\n",
       "    </tr>\n",
       "    <tr>\n",
       "      <th>3</th>\n",
       "      <td>California</td>\n",
       "      <td>1999</td>\n",
       "      <td>1</td>\n",
       "      <td>4</td>\n",
       "      <td>14.32</td>\n",
       "    </tr>\n",
       "    <tr>\n",
       "      <th>4</th>\n",
       "      <td>California</td>\n",
       "      <td>1999</td>\n",
       "      <td>1</td>\n",
       "      <td>5</td>\n",
       "      <td>14.89</td>\n",
       "    </tr>\n",
       "  </tbody>\n",
       "</table>\n",
       "</div>"
      ],
      "text/plain": [
       "        state  year  month  day  max_temp\n",
       "0  California  1999      1    1     13.35\n",
       "1  California  1999      1    2     14.78\n",
       "2  California  1999      1    3     13.77\n",
       "3  California  1999      1    4     14.32\n",
       "4  California  1999      1    5     14.89"
      ]
     },
     "execution_count": 16,
     "metadata": {},
     "output_type": "execute_result"
    }
   ],
   "source": [
    "california_temp_data.head()"
   ]
  },
  {
   "cell_type": "code",
   "execution_count": 24,
   "metadata": {
    "collapsed": false
   },
   "outputs": [],
   "source": [
    "california_summer_temp_data = california_temp_data[(california_temp_data['month']>=5) & (california_temp_data['month']<=9)]"
   ]
  },
  {
   "cell_type": "code",
   "execution_count": 26,
   "metadata": {
    "collapsed": false
   },
   "outputs": [
    {
     "name": "stdout",
     "output_type": "stream",
     "text": [
      "<class 'pandas.core.frame.DataFrame'>\n",
      "Int64Index: 1989 entries, 113 to 4429\n",
      "Data columns (total 5 columns):\n",
      "state       1989 non-null object\n",
      "year        1989 non-null int64\n",
      "month       1989 non-null int64\n",
      "day         1989 non-null int64\n",
      "max_temp    1989 non-null float64\n",
      "dtypes: float64(1), int64(3), object(1)\n",
      "memory usage: 93.2+ KB\n"
     ]
    }
   ],
   "source": [
    "california_summer_temp_data.info()"
   ]
  },
  {
   "cell_type": "code",
   "execution_count": 27,
   "metadata": {
    "collapsed": false
   },
   "outputs": [
    {
     "data": {
      "text/html": [
       "<div>\n",
       "<style>\n",
       "    .dataframe thead tr:only-child th {\n",
       "        text-align: right;\n",
       "    }\n",
       "\n",
       "    .dataframe thead th {\n",
       "        text-align: left;\n",
       "    }\n",
       "\n",
       "    .dataframe tbody tr th {\n",
       "        vertical-align: top;\n",
       "    }\n",
       "</style>\n",
       "<table border=\"1\" class=\"dataframe\">\n",
       "  <thead>\n",
       "    <tr style=\"text-align: right;\">\n",
       "      <th></th>\n",
       "      <th>state</th>\n",
       "      <th>year</th>\n",
       "      <th>month</th>\n",
       "      <th>day</th>\n",
       "      <th>max_temp</th>\n",
       "    </tr>\n",
       "  </thead>\n",
       "  <tbody>\n",
       "    <tr>\n",
       "      <th>113</th>\n",
       "      <td>California</td>\n",
       "      <td>1999</td>\n",
       "      <td>5</td>\n",
       "      <td>1</td>\n",
       "      <td>18.79</td>\n",
       "    </tr>\n",
       "    <tr>\n",
       "      <th>114</th>\n",
       "      <td>California</td>\n",
       "      <td>1999</td>\n",
       "      <td>5</td>\n",
       "      <td>2</td>\n",
       "      <td>15.01</td>\n",
       "    </tr>\n",
       "    <tr>\n",
       "      <th>115</th>\n",
       "      <td>California</td>\n",
       "      <td>1999</td>\n",
       "      <td>5</td>\n",
       "      <td>3</td>\n",
       "      <td>12.95</td>\n",
       "    </tr>\n",
       "    <tr>\n",
       "      <th>116</th>\n",
       "      <td>California</td>\n",
       "      <td>1999</td>\n",
       "      <td>5</td>\n",
       "      <td>4</td>\n",
       "      <td>16.11</td>\n",
       "    </tr>\n",
       "    <tr>\n",
       "      <th>117</th>\n",
       "      <td>California</td>\n",
       "      <td>1999</td>\n",
       "      <td>5</td>\n",
       "      <td>5</td>\n",
       "      <td>22.11</td>\n",
       "    </tr>\n",
       "    <tr>\n",
       "      <th>118</th>\n",
       "      <td>California</td>\n",
       "      <td>1999</td>\n",
       "      <td>5</td>\n",
       "      <td>6</td>\n",
       "      <td>23.43</td>\n",
       "    </tr>\n",
       "    <tr>\n",
       "      <th>119</th>\n",
       "      <td>California</td>\n",
       "      <td>1999</td>\n",
       "      <td>5</td>\n",
       "      <td>7</td>\n",
       "      <td>20.93</td>\n",
       "    </tr>\n",
       "    <tr>\n",
       "      <th>120</th>\n",
       "      <td>California</td>\n",
       "      <td>1999</td>\n",
       "      <td>5</td>\n",
       "      <td>8</td>\n",
       "      <td>19.19</td>\n",
       "    </tr>\n",
       "    <tr>\n",
       "      <th>121</th>\n",
       "      <td>California</td>\n",
       "      <td>1999</td>\n",
       "      <td>5</td>\n",
       "      <td>9</td>\n",
       "      <td>18.02</td>\n",
       "    </tr>\n",
       "    <tr>\n",
       "      <th>122</th>\n",
       "      <td>California</td>\n",
       "      <td>1999</td>\n",
       "      <td>5</td>\n",
       "      <td>10</td>\n",
       "      <td>19.22</td>\n",
       "    </tr>\n",
       "  </tbody>\n",
       "</table>\n",
       "</div>"
      ],
      "text/plain": [
       "          state  year  month  day  max_temp\n",
       "113  California  1999      5    1     18.79\n",
       "114  California  1999      5    2     15.01\n",
       "115  California  1999      5    3     12.95\n",
       "116  California  1999      5    4     16.11\n",
       "117  California  1999      5    5     22.11\n",
       "118  California  1999      5    6     23.43\n",
       "119  California  1999      5    7     20.93\n",
       "120  California  1999      5    8     19.19\n",
       "121  California  1999      5    9     18.02\n",
       "122  California  1999      5   10     19.22"
      ]
     },
     "execution_count": 27,
     "metadata": {},
     "output_type": "execute_result"
    }
   ],
   "source": [
    "california_summer_temp_data.head(10)"
   ]
  },
  {
   "cell_type": "code",
   "execution_count": 28,
   "metadata": {
    "collapsed": true
   },
   "outputs": [],
   "source": [
    "df_1999 = california_summer_temp_data[california_summer_temp_data['year']==1999]"
   ]
  },
  {
   "cell_type": "code",
   "execution_count": 32,
   "metadata": {
    "collapsed": false
   },
   "outputs": [
    {
     "data": {
      "image/png": "[encoded data removed]",
      "text/plain": [
       "<matplotlib.figure.Figure at 0x1dfd0fafcc0>"
      ]
     },
     "metadata": {},
     "output_type": "display_data"
    }
   ],
   "source": [
    "ax = df_1999.plot(x=30*df_1999['month']+df_1999['day'], y = 'max_temp')\n",
    "_ = ax.set_xlabel(\"day number, 1999\")\n",
    "_ = ax.set_ylabel(\"maximum temperature, (C)\")"
   ]
  },
  {
   "cell_type": "markdown",
   "metadata": {},
   "source": [
    "Теперь попробуем сгруппировать данные по годам и месяцам:"
   ]
  },
  {
   "cell_type": "code",
   "execution_count": 33,
   "metadata": {
    "collapsed": false
   },
   "outputs": [
    {
     "data": {
      "text/plain": [
       "year  month\n",
       "1999  5        28.14\n",
       "      6        33.99\n",
       "      7        34.54\n",
       "      8        35.07\n",
       "      9        31.19\n",
       "2000  5        31.60\n",
       "      6        34.78\n",
       "      7        36.10\n",
       "      8        36.40\n",
       "      9        33.73\n",
       "2001  5        33.67\n",
       "      6        33.70\n",
       "      7        37.19\n",
       "      8        36.42\n",
       "      9        32.78\n",
       "2002  5        30.93\n",
       "      6        32.33\n",
       "      7        37.41\n",
       "      8        36.70\n",
       "      9        35.02\n",
       "2003  5        32.44\n",
       "      6        34.43\n",
       "      7        35.98\n",
       "      8        34.75\n",
       "      9        34.18\n",
       "2004  5        29.49\n",
       "      6        31.25\n",
       "      7        34.70\n",
       "      8        36.88\n",
       "      9        33.90\n",
       "               ...  \n",
       "2006  5        29.98\n",
       "      6        35.68\n",
       "      7        38.41\n",
       "      8        33.86\n",
       "      9        34.23\n",
       "2007  5        28.46\n",
       "      6        32.60\n",
       "      7        38.09\n",
       "      8        36.12\n",
       "      9        34.79\n",
       "2008  5        32.27\n",
       "      6        34.08\n",
       "      7        37.14\n",
       "      8        35.91\n",
       "      9        35.37\n",
       "2009  5        32.85\n",
       "      6        35.05\n",
       "      7        37.13\n",
       "      8        35.62\n",
       "      9        35.30\n",
       "2010  5        25.51\n",
       "      6        33.21\n",
       "      7        35.58\n",
       "      8        37.01\n",
       "      9        34.63\n",
       "2011  5        25.99\n",
       "      6        32.67\n",
       "      7        33.74\n",
       "      8        34.21\n",
       "      9        33.28\n",
       "Name: max_temp, Length: 65, dtype: float64"
      ]
     },
     "execution_count": 33,
     "metadata": {},
     "output_type": "execute_result"
    }
   ],
   "source": [
    "california_summer_temp_data.groupby(['year','month'])['max_temp'].max()"
   ]
  },
  {
   "cell_type": "markdown",
   "metadata": {},
   "source": [
    "# Данные о смертности от инсультов\n",
    "\n",
    "Мы получили ежемесячные данные о смертности от сосудистых заболеваний по всем штатам США за период с 1999 по 2011 годы.\n",
    "Нужно выделить данные о смертности от инсультов:"
   ]
  },
  {
   "cell_type": "code",
   "execution_count": 34,
   "metadata": {
    "collapsed": false
   },
   "outputs": [
    {
     "name": "stdout",
     "output_type": "stream",
     "text": [
      "   Notes    State  State Code  Year  Year Code       Month Month Code  \\\n",
      "0    NaN  Alabama           1  1999       1999  Jan., 1999    1999/01   \n",
      "1    NaN  Alabama           1  1999       1999  Jan., 1999    1999/01   \n",
      "2    NaN  Alabama           1  1999       1999  Jan., 1999    1999/01   \n",
      "3    NaN  Alabama           1  1999       1999  Jan., 1999    1999/01   \n",
      "4    NaN  Alabama           1  1999       1999  Feb., 1999    1999/02   \n",
      "\n",
      "                                      Cause of death Cause of death Code  \\\n",
      "0              Subarachnoid haemorrhage, unspecified               I60.9   \n",
      "1             Intracerebral haemorrhage, unspecified               I61.9   \n",
      "2                   Cerebral infarction, unspecified               I63.9   \n",
      "3  Stroke, not specified as haemorrhage or infarc...                 I64   \n",
      "4             Intracerebral haemorrhage, unspecified               I61.9   \n",
      "\n",
      "   Deaths      Population      Crude Rate  \n",
      "0      12  Not Applicable  Not Applicable  \n",
      "1      29  Not Applicable  Not Applicable  \n",
      "2      13  Not Applicable  Not Applicable  \n",
      "3     107  Not Applicable  Not Applicable  \n",
      "4      16  Not Applicable  Not Applicable  \n"
     ]
    }
   ],
   "source": [
    "# Assign filename: file\n",
    "file = 'datasets/causeOfDeathAllStates01_56_I00-I78_1999-2011.txt'\n",
    "\n",
    "# Import file: data\n",
    "#raw_temp_data = pd.read_csv(file, sep='\\t', converters={\"Year\":int, 'Month Code':int, 'Day of Month':int,'Avg Daily Max Air Temperature (C)':float})\n",
    "raw_death_data = pd.read_csv(file, sep='\\t')\n",
    "# Print the head of the DataFrame\n",
    "print(raw_death_data.head())"
   ]
  },
  {
   "cell_type": "code",
   "execution_count": 37,
   "metadata": {
    "collapsed": false
   },
   "outputs": [],
   "source": [
    "death_data = raw_death_data[['State', 'Year', 'Month Code', 'Cause of death Code', 'Deaths']]"
   ]
  },
  {
   "cell_type": "code",
   "execution_count": 38,
   "metadata": {
    "collapsed": true
   },
   "outputs": [],
   "source": [
    "stroke_death_data = death_data[death_data['Cause of death Code']=='I64']"
   ]
  },
  {
   "cell_type": "code",
   "execution_count": 39,
   "metadata": {
    "collapsed": false
   },
   "outputs": [
    {
     "data": {
      "text/html": [
       "<div>\n",
       "<style>\n",
       "    .dataframe thead tr:only-child th {\n",
       "        text-align: right;\n",
       "    }\n",
       "\n",
       "    .dataframe thead th {\n",
       "        text-align: left;\n",
       "    }\n",
       "\n",
       "    .dataframe tbody tr th {\n",
       "        vertical-align: top;\n",
       "    }\n",
       "</style>\n",
       "<table border=\"1\" class=\"dataframe\">\n",
       "  <thead>\n",
       "    <tr style=\"text-align: right;\">\n",
       "      <th></th>\n",
       "      <th>State</th>\n",
       "      <th>Year</th>\n",
       "      <th>Month Code</th>\n",
       "      <th>Cause of death Code</th>\n",
       "      <th>Deaths</th>\n",
       "    </tr>\n",
       "  </thead>\n",
       "  <tbody>\n",
       "    <tr>\n",
       "      <th>3</th>\n",
       "      <td>Alabama</td>\n",
       "      <td>1999</td>\n",
       "      <td>1999/01</td>\n",
       "      <td>I64</td>\n",
       "      <td>107</td>\n",
       "    </tr>\n",
       "    <tr>\n",
       "      <th>5</th>\n",
       "      <td>Alabama</td>\n",
       "      <td>1999</td>\n",
       "      <td>1999/02</td>\n",
       "      <td>I64</td>\n",
       "      <td>98</td>\n",
       "    </tr>\n",
       "    <tr>\n",
       "      <th>8</th>\n",
       "      <td>Alabama</td>\n",
       "      <td>1999</td>\n",
       "      <td>1999/03</td>\n",
       "      <td>I64</td>\n",
       "      <td>114</td>\n",
       "    </tr>\n",
       "    <tr>\n",
       "      <th>10</th>\n",
       "      <td>Alabama</td>\n",
       "      <td>1999</td>\n",
       "      <td>1999/04</td>\n",
       "      <td>I64</td>\n",
       "      <td>91</td>\n",
       "    </tr>\n",
       "    <tr>\n",
       "      <th>12</th>\n",
       "      <td>Alabama</td>\n",
       "      <td>1999</td>\n",
       "      <td>1999/05</td>\n",
       "      <td>I64</td>\n",
       "      <td>89</td>\n",
       "    </tr>\n",
       "  </tbody>\n",
       "</table>\n",
       "</div>"
      ],
      "text/plain": [
       "      State  Year Month Code Cause of death Code  Deaths\n",
       "3   Alabama  1999    1999/01                 I64     107\n",
       "5   Alabama  1999    1999/02                 I64      98\n",
       "8   Alabama  1999    1999/03                 I64     114\n",
       "10  Alabama  1999    1999/04                 I64      91\n",
       "12  Alabama  1999    1999/05                 I64      89"
      ]
     },
     "execution_count": 39,
     "metadata": {},
     "output_type": "execute_result"
    }
   ],
   "source": [
    "stroke_death_data.head()"
   ]
  },
  {
   "cell_type": "code",
   "execution_count": 40,
   "metadata": {
    "collapsed": false
   },
   "outputs": [
    {
     "data": {
      "text/html": [
       "<div>\n",
       "<style>\n",
       "    .dataframe thead tr:only-child th {\n",
       "        text-align: right;\n",
       "    }\n",
       "\n",
       "    .dataframe thead th {\n",
       "        text-align: left;\n",
       "    }\n",
       "\n",
       "    .dataframe tbody tr th {\n",
       "        vertical-align: top;\n",
       "    }\n",
       "</style>\n",
       "<table border=\"1\" class=\"dataframe\">\n",
       "  <thead>\n",
       "    <tr style=\"text-align: right;\">\n",
       "      <th></th>\n",
       "      <th>State</th>\n",
       "      <th>Year</th>\n",
       "      <th>Month Code</th>\n",
       "      <th>Cause of death Code</th>\n",
       "      <th>Deaths</th>\n",
       "    </tr>\n",
       "  </thead>\n",
       "  <tbody>\n",
       "    <tr>\n",
       "      <th>22261</th>\n",
       "      <td>Wyoming</td>\n",
       "      <td>2004</td>\n",
       "      <td>2004/07</td>\n",
       "      <td>I64</td>\n",
       "      <td>10</td>\n",
       "    </tr>\n",
       "    <tr>\n",
       "      <th>22262</th>\n",
       "      <td>Wyoming</td>\n",
       "      <td>2005</td>\n",
       "      <td>2005/02</td>\n",
       "      <td>I64</td>\n",
       "      <td>10</td>\n",
       "    </tr>\n",
       "    <tr>\n",
       "      <th>22263</th>\n",
       "      <td>Wyoming</td>\n",
       "      <td>2005</td>\n",
       "      <td>2005/07</td>\n",
       "      <td>I64</td>\n",
       "      <td>11</td>\n",
       "    </tr>\n",
       "    <tr>\n",
       "      <th>22264</th>\n",
       "      <td>Wyoming</td>\n",
       "      <td>2006</td>\n",
       "      <td>2006/09</td>\n",
       "      <td>I64</td>\n",
       "      <td>11</td>\n",
       "    </tr>\n",
       "    <tr>\n",
       "      <th>22265</th>\n",
       "      <td>Wyoming</td>\n",
       "      <td>2007</td>\n",
       "      <td>2007/10</td>\n",
       "      <td>I64</td>\n",
       "      <td>10</td>\n",
       "    </tr>\n",
       "  </tbody>\n",
       "</table>\n",
       "</div>"
      ],
      "text/plain": [
       "         State  Year Month Code Cause of death Code  Deaths\n",
       "22261  Wyoming  2004    2004/07                 I64      10\n",
       "22262  Wyoming  2005    2005/02                 I64      10\n",
       "22263  Wyoming  2005    2005/07                 I64      11\n",
       "22264  Wyoming  2006    2006/09                 I64      11\n",
       "22265  Wyoming  2007    2007/10                 I64      10"
      ]
     },
     "execution_count": 40,
     "metadata": {},
     "output_type": "execute_result"
    }
   ],
   "source": [
    "stroke_death_data.tail()"
   ]
  },
  {
   "cell_type": "code",
   "execution_count": 43,
   "metadata": {
    "collapsed": false
   },
   "outputs": [
    {
     "data": {
      "text/plain": [
       "<matplotlib.axes._subplots.AxesSubplot at 0x1dfd1b0ee10>"
      ]
     },
     "execution_count": 43,
     "metadata": {},
     "output_type": "execute_result"
    },
    {
     "data": {
      "image/png": "[encoded data removed]",
      "text/plain": [
       "<matplotlib.figure.Figure at 0x1dfd15ed240>"
      ]
     },
     "metadata": {},
     "output_type": "display_data"
    }
   ],
   "source": [
    "stroke_death_data.boxplot(by='State', \n",
    "                       column=['Deaths'], \n",
    "                       grid=False, rot=90, fontsize=5)"
   ]
  },
  {
   "cell_type": "markdown",
   "metadata": {},
   "source": [
    "Мы должны учесть что штаты заселены очень неравномерно и для корректности сравнения смертности по штатам необходимо масштабирование"
   ]
  },
  {
   "cell_type": "code",
   "execution_count": 86,
   "metadata": {
    "collapsed": false
   },
   "outputs": [
    {
     "name": "stdout",
     "output_type": "stream",
     "text": [
      "                                  Year    Alabama    Alaska    Arizona  \\\n",
      "0                                 2012  4777326.0  711139.0  6410979.0   \n",
      "1  US population (by state and county)        NaN       NaN        NaN   \n",
      "\n",
      "    Arkansas  California   Colorado  Connecticut  Delaware  \\\n",
      "0  2916372.0  37325068.0  5042853.0    3572213.0  900131.0   \n",
      "1        NaN         NaN        NaN          NaN       NaN   \n",
      "\n",
      "   District of Columbia    ...     South Dakota  Tennessee       Texas  \\\n",
      "0              605759.0    ...         815871.0  6353226.0  25208897.0   \n",
      "1                   NaN    ...              NaN        NaN         NaN   \n",
      "\n",
      "        Utah   Vermont   Virginia  Washington  West Virginia  Wisconsin  \\\n",
      "0  2766233.0  625498.0  8014955.0   6738714.0      1850481.0  5687219.0   \n",
      "1        NaN       NaN        NaN         NaN            NaN        NaN   \n",
      "\n",
      "    Wyoming  \n",
      "0  562803.0  \n",
      "1       NaN  \n",
      "\n",
      "[2 rows x 53 columns]\n"
     ]
    }
   ],
   "source": [
    "states_population_file = 'datasets/us-population-by-state-and-count.csv'\n",
    "states_population_raw = pd.read_csv(states_population_file)\n",
    "# Print the head of the DataFrame\n",
    "print(states_population_raw.head())"
   ]
  },
  {
   "cell_type": "code",
   "execution_count": 87,
   "metadata": {
    "collapsed": true
   },
   "outputs": [],
   "source": [
    "states_population = states_population_raw.T"
   ]
  },
  {
   "cell_type": "code",
   "execution_count": 88,
   "metadata": {
    "collapsed": false
   },
   "outputs": [
    {
     "name": "stdout",
     "output_type": "stream",
     "text": [
      "<class 'pandas.core.frame.DataFrame'>\n",
      "Index: 53 entries, Year to Wyoming\n",
      "Data columns (total 2 columns):\n",
      "0    53 non-null object\n",
      "1    1 non-null object\n",
      "dtypes: object(2)\n",
      "memory usage: 3.7+ KB\n"
     ]
    }
   ],
   "source": [
    "states_population.info()"
   ]
  },
  {
   "cell_type": "code",
   "execution_count": 89,
   "metadata": {
    "collapsed": false
   },
   "outputs": [
    {
     "data": {
      "text/html": [
       "<div>\n",
       "<style>\n",
       "    .dataframe thead tr:only-child th {\n",
       "        text-align: right;\n",
       "    }\n",
       "\n",
       "    .dataframe thead th {\n",
       "        text-align: left;\n",
       "    }\n",
       "\n",
       "    .dataframe tbody tr th {\n",
       "        vertical-align: top;\n",
       "    }\n",
       "</style>\n",
       "<table border=\"1\" class=\"dataframe\">\n",
       "  <thead>\n",
       "    <tr style=\"text-align: right;\">\n",
       "      <th></th>\n",
       "      <th>0</th>\n",
       "      <th>1</th>\n",
       "    </tr>\n",
       "  </thead>\n",
       "  <tbody>\n",
       "    <tr>\n",
       "      <th>Year</th>\n",
       "      <td>2012</td>\n",
       "      <td>US population (by state and county)</td>\n",
       "    </tr>\n",
       "    <tr>\n",
       "      <th>Alabama</th>\n",
       "      <td>4.77733e+06</td>\n",
       "      <td>NaN</td>\n",
       "    </tr>\n",
       "    <tr>\n",
       "      <th>Alaska</th>\n",
       "      <td>711139</td>\n",
       "      <td>NaN</td>\n",
       "    </tr>\n",
       "    <tr>\n",
       "      <th>Arizona</th>\n",
       "      <td>6.41098e+06</td>\n",
       "      <td>NaN</td>\n",
       "    </tr>\n",
       "    <tr>\n",
       "      <th>Arkansas</th>\n",
       "      <td>2.91637e+06</td>\n",
       "      <td>NaN</td>\n",
       "    </tr>\n",
       "  </tbody>\n",
       "</table>\n",
       "</div>"
      ],
      "text/plain": [
       "                    0                                    1\n",
       "Year             2012  US population (by state and county)\n",
       "Alabama   4.77733e+06                                  NaN\n",
       "Alaska         711139                                  NaN\n",
       "Arizona   6.41098e+06                                  NaN\n",
       "Arkansas  2.91637e+06                                  NaN"
      ]
     },
     "execution_count": 89,
     "metadata": {},
     "output_type": "execute_result"
    }
   ],
   "source": [
    "states_population.head()"
   ]
  },
  {
   "cell_type": "code",
   "execution_count": 90,
   "metadata": {
    "collapsed": true
   },
   "outputs": [],
   "source": [
    "sp = states_population[2:]"
   ]
  },
  {
   "cell_type": "code",
   "execution_count": 91,
   "metadata": {
    "collapsed": false
   },
   "outputs": [
    {
     "data": {
      "text/html": [
       "<div>\n",
       "<style>\n",
       "    .dataframe thead tr:only-child th {\n",
       "        text-align: right;\n",
       "    }\n",
       "\n",
       "    .dataframe thead th {\n",
       "        text-align: left;\n",
       "    }\n",
       "\n",
       "    .dataframe tbody tr th {\n",
       "        vertical-align: top;\n",
       "    }\n",
       "</style>\n",
       "<table border=\"1\" class=\"dataframe\">\n",
       "  <thead>\n",
       "    <tr style=\"text-align: right;\">\n",
       "      <th></th>\n",
       "      <th>0</th>\n",
       "      <th>1</th>\n",
       "    </tr>\n",
       "  </thead>\n",
       "  <tbody>\n",
       "    <tr>\n",
       "      <th>Alaska</th>\n",
       "      <td>711139</td>\n",
       "      <td>NaN</td>\n",
       "    </tr>\n",
       "    <tr>\n",
       "      <th>Arizona</th>\n",
       "      <td>6.41098e+06</td>\n",
       "      <td>NaN</td>\n",
       "    </tr>\n",
       "    <tr>\n",
       "      <th>Arkansas</th>\n",
       "      <td>2.91637e+06</td>\n",
       "      <td>NaN</td>\n",
       "    </tr>\n",
       "    <tr>\n",
       "      <th>California</th>\n",
       "      <td>3.73251e+07</td>\n",
       "      <td>NaN</td>\n",
       "    </tr>\n",
       "    <tr>\n",
       "      <th>Colorado</th>\n",
       "      <td>5.04285e+06</td>\n",
       "      <td>NaN</td>\n",
       "    </tr>\n",
       "  </tbody>\n",
       "</table>\n",
       "</div>"
      ],
      "text/plain": [
       "                      0    1\n",
       "Alaska           711139  NaN\n",
       "Arizona     6.41098e+06  NaN\n",
       "Arkansas    2.91637e+06  NaN\n",
       "California  3.73251e+07  NaN\n",
       "Colorado    5.04285e+06  NaN"
      ]
     },
     "execution_count": 91,
     "metadata": {},
     "output_type": "execute_result"
    }
   ],
   "source": [
    "sp.head()"
   ]
  },
  {
   "cell_type": "code",
   "execution_count": 92,
   "metadata": {
    "collapsed": false
   },
   "outputs": [
    {
     "name": "stdout",
     "output_type": "stream",
     "text": [
      "<class 'pandas.core.frame.DataFrame'>\n",
      "Index: 51 entries, Alaska to Wyoming\n",
      "Data columns (total 2 columns):\n",
      "0    51 non-null object\n",
      "1    0 non-null object\n",
      "dtypes: object(2)\n",
      "memory usage: 1.2+ KB\n"
     ]
    }
   ],
   "source": [
    "sp.info()"
   ]
  },
  {
   "cell_type": "code",
   "execution_count": 93,
   "metadata": {
    "collapsed": false
   },
   "outputs": [],
   "source": [
    "sp.reset_index(level=0, inplace=True)\n",
    "sp1 = sp.iloc[:,0:2]"
   ]
  },
  {
   "cell_type": "code",
   "execution_count": 94,
   "metadata": {
    "collapsed": false
   },
   "outputs": [
    {
     "data": {
      "text/html": [
       "<div>\n",
       "<style>\n",
       "    .dataframe thead tr:only-child th {\n",
       "        text-align: right;\n",
       "    }\n",
       "\n",
       "    .dataframe thead th {\n",
       "        text-align: left;\n",
       "    }\n",
       "\n",
       "    .dataframe tbody tr th {\n",
       "        vertical-align: top;\n",
       "    }\n",
       "</style>\n",
       "<table border=\"1\" class=\"dataframe\">\n",
       "  <thead>\n",
       "    <tr style=\"text-align: right;\">\n",
       "      <th></th>\n",
       "      <th>index</th>\n",
       "      <th>0</th>\n",
       "    </tr>\n",
       "  </thead>\n",
       "  <tbody>\n",
       "    <tr>\n",
       "      <th>0</th>\n",
       "      <td>Alaska</td>\n",
       "      <td>711139</td>\n",
       "    </tr>\n",
       "    <tr>\n",
       "      <th>1</th>\n",
       "      <td>Arizona</td>\n",
       "      <td>6.41098e+06</td>\n",
       "    </tr>\n",
       "    <tr>\n",
       "      <th>2</th>\n",
       "      <td>Arkansas</td>\n",
       "      <td>2.91637e+06</td>\n",
       "    </tr>\n",
       "    <tr>\n",
       "      <th>3</th>\n",
       "      <td>California</td>\n",
       "      <td>3.73251e+07</td>\n",
       "    </tr>\n",
       "    <tr>\n",
       "      <th>4</th>\n",
       "      <td>Colorado</td>\n",
       "      <td>5.04285e+06</td>\n",
       "    </tr>\n",
       "  </tbody>\n",
       "</table>\n",
       "</div>"
      ],
      "text/plain": [
       "        index            0\n",
       "0      Alaska       711139\n",
       "1     Arizona  6.41098e+06\n",
       "2    Arkansas  2.91637e+06\n",
       "3  California  3.73251e+07\n",
       "4    Colorado  5.04285e+06"
      ]
     },
     "execution_count": 94,
     "metadata": {},
     "output_type": "execute_result"
    }
   ],
   "source": [
    "sp1.head()"
   ]
  },
  {
   "cell_type": "code",
   "execution_count": 95,
   "metadata": {
    "collapsed": true
   },
   "outputs": [],
   "source": [
    "sp1.columns = ['State','PopulationStr']"
   ]
  },
  {
   "cell_type": "code",
   "execution_count": 96,
   "metadata": {
    "collapsed": false
   },
   "outputs": [
    {
     "data": {
      "text/html": [
       "<div>\n",
       "<style>\n",
       "    .dataframe thead tr:only-child th {\n",
       "        text-align: right;\n",
       "    }\n",
       "\n",
       "    .dataframe thead th {\n",
       "        text-align: left;\n",
       "    }\n",
       "\n",
       "    .dataframe tbody tr th {\n",
       "        vertical-align: top;\n",
       "    }\n",
       "</style>\n",
       "<table border=\"1\" class=\"dataframe\">\n",
       "  <thead>\n",
       "    <tr style=\"text-align: right;\">\n",
       "      <th></th>\n",
       "      <th>State</th>\n",
       "      <th>PopulationStr</th>\n",
       "    </tr>\n",
       "  </thead>\n",
       "  <tbody>\n",
       "    <tr>\n",
       "      <th>0</th>\n",
       "      <td>Alaska</td>\n",
       "      <td>711139</td>\n",
       "    </tr>\n",
       "    <tr>\n",
       "      <th>1</th>\n",
       "      <td>Arizona</td>\n",
       "      <td>6.41098e+06</td>\n",
       "    </tr>\n",
       "    <tr>\n",
       "      <th>2</th>\n",
       "      <td>Arkansas</td>\n",
       "      <td>2.91637e+06</td>\n",
       "    </tr>\n",
       "    <tr>\n",
       "      <th>3</th>\n",
       "      <td>California</td>\n",
       "      <td>3.73251e+07</td>\n",
       "    </tr>\n",
       "    <tr>\n",
       "      <th>4</th>\n",
       "      <td>Colorado</td>\n",
       "      <td>5.04285e+06</td>\n",
       "    </tr>\n",
       "  </tbody>\n",
       "</table>\n",
       "</div>"
      ],
      "text/plain": [
       "        State PopulationStr\n",
       "0      Alaska        711139\n",
       "1     Arizona   6.41098e+06\n",
       "2    Arkansas   2.91637e+06\n",
       "3  California   3.73251e+07\n",
       "4    Colorado   5.04285e+06"
      ]
     },
     "execution_count": 96,
     "metadata": {},
     "output_type": "execute_result"
    }
   ],
   "source": [
    "sp1.head()"
   ]
  },
  {
   "cell_type": "code",
   "execution_count": 100,
   "metadata": {
    "collapsed": false
   },
   "outputs": [],
   "source": [
    "sp1[['PopulationStr']] = sp1[['PopulationStr']].apply(pd.to_numeric)"
   ]
  },
  {
   "cell_type": "code",
   "execution_count": 102,
   "metadata": {
    "collapsed": false
   },
   "outputs": [
    {
     "data": {
      "text/html": [
       "<div>\n",
       "<style>\n",
       "    .dataframe thead tr:only-child th {\n",
       "        text-align: right;\n",
       "    }\n",
       "\n",
       "    .dataframe thead th {\n",
       "        text-align: left;\n",
       "    }\n",
       "\n",
       "    .dataframe tbody tr th {\n",
       "        vertical-align: top;\n",
       "    }\n",
       "</style>\n",
       "<table border=\"1\" class=\"dataframe\">\n",
       "  <thead>\n",
       "    <tr style=\"text-align: right;\">\n",
       "      <th></th>\n",
       "      <th>State</th>\n",
       "      <th>PopulationStr</th>\n",
       "    </tr>\n",
       "  </thead>\n",
       "  <tbody>\n",
       "    <tr>\n",
       "      <th>0</th>\n",
       "      <td>Alaska</td>\n",
       "      <td>711139.0</td>\n",
       "    </tr>\n",
       "    <tr>\n",
       "      <th>1</th>\n",
       "      <td>Arizona</td>\n",
       "      <td>6410979.0</td>\n",
       "    </tr>\n",
       "    <tr>\n",
       "      <th>2</th>\n",
       "      <td>Arkansas</td>\n",
       "      <td>2916372.0</td>\n",
       "    </tr>\n",
       "    <tr>\n",
       "      <th>3</th>\n",
       "      <td>California</td>\n",
       "      <td>37325068.0</td>\n",
       "    </tr>\n",
       "    <tr>\n",
       "      <th>4</th>\n",
       "      <td>Colorado</td>\n",
       "      <td>5042853.0</td>\n",
       "    </tr>\n",
       "    <tr>\n",
       "      <th>5</th>\n",
       "      <td>Connecticut</td>\n",
       "      <td>3572213.0</td>\n",
       "    </tr>\n",
       "    <tr>\n",
       "      <th>6</th>\n",
       "      <td>Delaware</td>\n",
       "      <td>900131.0</td>\n",
       "    </tr>\n",
       "    <tr>\n",
       "      <th>7</th>\n",
       "      <td>District of Columbia</td>\n",
       "      <td>605759.0</td>\n",
       "    </tr>\n",
       "    <tr>\n",
       "      <th>8</th>\n",
       "      <td>Florida</td>\n",
       "      <td>18885152.0</td>\n",
       "    </tr>\n",
       "    <tr>\n",
       "      <th>9</th>\n",
       "      <td>Georgia</td>\n",
       "      <td>9714569.0</td>\n",
       "    </tr>\n",
       "    <tr>\n",
       "      <th>10</th>\n",
       "      <td>Hawaii</td>\n",
       "      <td>1362730.0</td>\n",
       "    </tr>\n",
       "    <tr>\n",
       "      <th>11</th>\n",
       "      <td>Idaho</td>\n",
       "      <td>1567803.0</td>\n",
       "    </tr>\n",
       "    <tr>\n",
       "      <th>12</th>\n",
       "      <td>Illinois</td>\n",
       "      <td>12823860.0</td>\n",
       "    </tr>\n",
       "    <tr>\n",
       "      <th>13</th>\n",
       "      <td>Indiana</td>\n",
       "      <td>6485530.0</td>\n",
       "    </tr>\n",
       "    <tr>\n",
       "      <th>14</th>\n",
       "      <td>Iowa</td>\n",
       "      <td>3047646.0</td>\n",
       "    </tr>\n",
       "    <tr>\n",
       "      <th>15</th>\n",
       "      <td>Kansas</td>\n",
       "      <td>2851183.0</td>\n",
       "    </tr>\n",
       "    <tr>\n",
       "      <th>16</th>\n",
       "      <td>Kentucky</td>\n",
       "      <td>4340167.0</td>\n",
       "    </tr>\n",
       "    <tr>\n",
       "      <th>17</th>\n",
       "      <td>Louisiana</td>\n",
       "      <td>4529605.0</td>\n",
       "    </tr>\n",
       "    <tr>\n",
       "      <th>18</th>\n",
       "      <td>Maine</td>\n",
       "      <td>1329084.0</td>\n",
       "    </tr>\n",
       "    <tr>\n",
       "      <th>19</th>\n",
       "      <td>Maryland</td>\n",
       "      <td>5785496.0</td>\n",
       "    </tr>\n",
       "    <tr>\n",
       "      <th>20</th>\n",
       "      <td>Massachusetts</td>\n",
       "      <td>6560595.0</td>\n",
       "    </tr>\n",
       "    <tr>\n",
       "      <th>21</th>\n",
       "      <td>Michigan</td>\n",
       "      <td>9897264.0</td>\n",
       "    </tr>\n",
       "    <tr>\n",
       "      <th>22</th>\n",
       "      <td>Minnesota</td>\n",
       "      <td>5313081.0</td>\n",
       "    </tr>\n",
       "    <tr>\n",
       "      <th>23</th>\n",
       "      <td>Mississippi</td>\n",
       "      <td>2967620.0</td>\n",
       "    </tr>\n",
       "    <tr>\n",
       "      <th>24</th>\n",
       "      <td>Missouri</td>\n",
       "      <td>5982413.0</td>\n",
       "    </tr>\n",
       "    <tr>\n",
       "      <th>25</th>\n",
       "      <td>Montana</td>\n",
       "      <td>990785.0</td>\n",
       "    </tr>\n",
       "    <tr>\n",
       "      <th>26</th>\n",
       "      <td>Nebraska</td>\n",
       "      <td>1827306.0</td>\n",
       "    </tr>\n",
       "    <tr>\n",
       "      <th>27</th>\n",
       "      <td>Nevada</td>\n",
       "      <td>2704204.0</td>\n",
       "    </tr>\n",
       "    <tr>\n",
       "      <th>28</th>\n",
       "      <td>New Hampshire</td>\n",
       "      <td>1317474.0</td>\n",
       "    </tr>\n",
       "    <tr>\n",
       "      <th>29</th>\n",
       "      <td>New Jersey</td>\n",
       "      <td>8793888.0</td>\n",
       "    </tr>\n",
       "    <tr>\n",
       "      <th>30</th>\n",
       "      <td>New Mexico</td>\n",
       "      <td>2055287.0</td>\n",
       "    </tr>\n",
       "    <tr>\n",
       "      <th>31</th>\n",
       "      <td>New York</td>\n",
       "      <td>19398125.0</td>\n",
       "    </tr>\n",
       "    <tr>\n",
       "      <th>32</th>\n",
       "      <td>North Carolina</td>\n",
       "      <td>9544249.0</td>\n",
       "    </tr>\n",
       "    <tr>\n",
       "      <th>33</th>\n",
       "      <td>North Dakota</td>\n",
       "      <td>676253.0</td>\n",
       "    </tr>\n",
       "    <tr>\n",
       "      <th>34</th>\n",
       "      <td>Ohio</td>\n",
       "      <td>11533561.0</td>\n",
       "    </tr>\n",
       "    <tr>\n",
       "      <th>35</th>\n",
       "      <td>Oklahoma</td>\n",
       "      <td>3749005.0</td>\n",
       "    </tr>\n",
       "    <tr>\n",
       "      <th>36</th>\n",
       "      <td>Oregon</td>\n",
       "      <td>3836628.0</td>\n",
       "    </tr>\n",
       "    <tr>\n",
       "      <th>37</th>\n",
       "      <td>Pennsylvania</td>\n",
       "      <td>12699589.0</td>\n",
       "    </tr>\n",
       "    <tr>\n",
       "      <th>38</th>\n",
       "      <td>Puerto Rico</td>\n",
       "      <td>3716727.0</td>\n",
       "    </tr>\n",
       "    <tr>\n",
       "      <th>39</th>\n",
       "      <td>Rhode Island</td>\n",
       "      <td>1052471.0</td>\n",
       "    </tr>\n",
       "    <tr>\n",
       "      <th>40</th>\n",
       "      <td>South Carolina</td>\n",
       "      <td>4630351.0</td>\n",
       "    </tr>\n",
       "    <tr>\n",
       "      <th>41</th>\n",
       "      <td>South Dakota</td>\n",
       "      <td>815871.0</td>\n",
       "    </tr>\n",
       "    <tr>\n",
       "      <th>42</th>\n",
       "      <td>Tennessee</td>\n",
       "      <td>6353226.0</td>\n",
       "    </tr>\n",
       "    <tr>\n",
       "      <th>43</th>\n",
       "      <td>Texas</td>\n",
       "      <td>25208897.0</td>\n",
       "    </tr>\n",
       "    <tr>\n",
       "      <th>44</th>\n",
       "      <td>Utah</td>\n",
       "      <td>2766233.0</td>\n",
       "    </tr>\n",
       "    <tr>\n",
       "      <th>45</th>\n",
       "      <td>Vermont</td>\n",
       "      <td>625498.0</td>\n",
       "    </tr>\n",
       "    <tr>\n",
       "      <th>46</th>\n",
       "      <td>Virginia</td>\n",
       "      <td>8014955.0</td>\n",
       "    </tr>\n",
       "    <tr>\n",
       "      <th>47</th>\n",
       "      <td>Washington</td>\n",
       "      <td>6738714.0</td>\n",
       "    </tr>\n",
       "    <tr>\n",
       "      <th>48</th>\n",
       "      <td>West Virginia</td>\n",
       "      <td>1850481.0</td>\n",
       "    </tr>\n",
       "    <tr>\n",
       "      <th>49</th>\n",
       "      <td>Wisconsin</td>\n",
       "      <td>5687219.0</td>\n",
       "    </tr>\n",
       "    <tr>\n",
       "      <th>50</th>\n",
       "      <td>Wyoming</td>\n",
       "      <td>562803.0</td>\n",
       "    </tr>\n",
       "  </tbody>\n",
       "</table>\n",
       "</div>"
      ],
      "text/plain": [
       "                   State  PopulationStr\n",
       "0                 Alaska       711139.0\n",
       "1                Arizona      6410979.0\n",
       "2               Arkansas      2916372.0\n",
       "3             California     37325068.0\n",
       "4               Colorado      5042853.0\n",
       "5            Connecticut      3572213.0\n",
       "6               Delaware       900131.0\n",
       "7   District of Columbia       605759.0\n",
       "8                Florida     18885152.0\n",
       "9                Georgia      9714569.0\n",
       "10                Hawaii      1362730.0\n",
       "11                 Idaho      1567803.0\n",
       "12              Illinois     12823860.0\n",
       "13               Indiana      6485530.0\n",
       "14                  Iowa      3047646.0\n",
       "15                Kansas      2851183.0\n",
       "16              Kentucky      4340167.0\n",
       "17             Louisiana      4529605.0\n",
       "18                 Maine      1329084.0\n",
       "19              Maryland      5785496.0\n",
       "20         Massachusetts      6560595.0\n",
       "21              Michigan      9897264.0\n",
       "22             Minnesota      5313081.0\n",
       "23           Mississippi      2967620.0\n",
       "24              Missouri      5982413.0\n",
       "25               Montana       990785.0\n",
       "26              Nebraska      1827306.0\n",
       "27                Nevada      2704204.0\n",
       "28         New Hampshire      1317474.0\n",
       "29            New Jersey      8793888.0\n",
       "30            New Mexico      2055287.0\n",
       "31              New York     19398125.0\n",
       "32        North Carolina      9544249.0\n",
       "33          North Dakota       676253.0\n",
       "34                  Ohio     11533561.0\n",
       "35              Oklahoma      3749005.0\n",
       "36                Oregon      3836628.0\n",
       "37          Pennsylvania     12699589.0\n",
       "38           Puerto Rico      3716727.0\n",
       "39          Rhode Island      1052471.0\n",
       "40        South Carolina      4630351.0\n",
       "41          South Dakota       815871.0\n",
       "42             Tennessee      6353226.0\n",
       "43                 Texas     25208897.0\n",
       "44                  Utah      2766233.0\n",
       "45               Vermont       625498.0\n",
       "46              Virginia      8014955.0\n",
       "47            Washington      6738714.0\n",
       "48         West Virginia      1850481.0\n",
       "49             Wisconsin      5687219.0\n",
       "50               Wyoming       562803.0"
      ]
     },
     "execution_count": 102,
     "metadata": {},
     "output_type": "execute_result"
    }
   ],
   "source": [
    "sp1.head(51)"
   ]
  },
  {
   "cell_type": "code",
   "execution_count": 103,
   "metadata": {
    "collapsed": true
   },
   "outputs": [],
   "source": [
    "sp1.to_csv('datasets/population_by_state.csv')"
   ]
  },
  {
   "cell_type": "code",
   "execution_count": 104,
   "metadata": {
    "collapsed": false,
    "scrolled": true
   },
   "outputs": [
    {
     "data": {
      "text/plain": [
       "array(['Alabama', 'Arizona', 'Arkansas', 'California', 'Colorado',\n",
       "       'Connecticut', 'Delaware', 'District of Columbia', 'Florida',\n",
       "       'Georgia', 'Hawaii', 'Idaho', 'Illinois', 'Indiana', 'Iowa',\n",
       "       'Kansas', 'Kentucky', 'Louisiana', 'Maine', 'Maryland',\n",
       "       'Massachusetts', 'Michigan', 'Minnesota', 'Mississippi',\n",
       "       'Missouri', 'Montana', 'Nebraska', 'Nevada', 'New Hampshire',\n",
       "       'New Jersey', 'New Mexico', 'New York', 'North Carolina',\n",
       "       'North Dakota', 'Ohio', 'Oklahoma', 'Oregon', 'Pennsylvania',\n",
       "       'Rhode Island', 'South Carolina', 'South Dakota', 'Tennessee',\n",
       "       'Texas', 'Utah', 'Vermont', 'Virginia', 'Washington',\n",
       "       'West Virginia', 'Wisconsin', 'Wyoming'], dtype=object)"
      ]
     },
     "execution_count": 104,
     "metadata": {},
     "output_type": "execute_result"
    }
   ],
   "source": [
    "stroke_death_data.State.unique()"
   ]
  },
  {
   "cell_type": "code",
   "execution_count": 110,
   "metadata": {
    "collapsed": false
   },
   "outputs": [
    {
     "data": {
      "text/plain": [
       "50"
      ]
     },
     "execution_count": 110,
     "metadata": {},
     "output_type": "execute_result"
    }
   ],
   "source": [
    "len(stroke_death_data.State.unique())"
   ]
  },
  {
   "cell_type": "markdown",
   "metadata": {},
   "source": [
    "# Присоединение численности населения \n",
    "\n",
    "Сейчас нужно к данным о смертности присоединить данные о численности населения в соответствующем штате"
   ]
  },
  {
   "cell_type": "code",
   "execution_count": 111,
   "metadata": {
    "collapsed": true
   },
   "outputs": [],
   "source": [
    "stroke_death_with_pop = pd.merge(stroke_death_data, sp1, on='State')"
   ]
  },
  {
   "cell_type": "code",
   "execution_count": 112,
   "metadata": {
    "collapsed": false
   },
   "outputs": [
    {
     "data": {
      "text/html": [
       "<div>\n",
       "<style>\n",
       "    .dataframe thead tr:only-child th {\n",
       "        text-align: right;\n",
       "    }\n",
       "\n",
       "    .dataframe thead th {\n",
       "        text-align: left;\n",
       "    }\n",
       "\n",
       "    .dataframe tbody tr th {\n",
       "        vertical-align: top;\n",
       "    }\n",
       "</style>\n",
       "<table border=\"1\" class=\"dataframe\">\n",
       "  <thead>\n",
       "    <tr style=\"text-align: right;\">\n",
       "      <th></th>\n",
       "      <th>State</th>\n",
       "      <th>Year</th>\n",
       "      <th>Month Code</th>\n",
       "      <th>Cause of death Code</th>\n",
       "      <th>Deaths</th>\n",
       "      <th>PopulationStr</th>\n",
       "    </tr>\n",
       "  </thead>\n",
       "  <tbody>\n",
       "    <tr>\n",
       "      <th>0</th>\n",
       "      <td>Arizona</td>\n",
       "      <td>1999</td>\n",
       "      <td>1999/01</td>\n",
       "      <td>I64</td>\n",
       "      <td>100</td>\n",
       "      <td>6410979.0</td>\n",
       "    </tr>\n",
       "    <tr>\n",
       "      <th>1</th>\n",
       "      <td>Arizona</td>\n",
       "      <td>1999</td>\n",
       "      <td>1999/02</td>\n",
       "      <td>I64</td>\n",
       "      <td>83</td>\n",
       "      <td>6410979.0</td>\n",
       "    </tr>\n",
       "    <tr>\n",
       "      <th>2</th>\n",
       "      <td>Arizona</td>\n",
       "      <td>1999</td>\n",
       "      <td>1999/03</td>\n",
       "      <td>I64</td>\n",
       "      <td>81</td>\n",
       "      <td>6410979.0</td>\n",
       "    </tr>\n",
       "    <tr>\n",
       "      <th>3</th>\n",
       "      <td>Arizona</td>\n",
       "      <td>1999</td>\n",
       "      <td>1999/04</td>\n",
       "      <td>I64</td>\n",
       "      <td>76</td>\n",
       "      <td>6410979.0</td>\n",
       "    </tr>\n",
       "    <tr>\n",
       "      <th>4</th>\n",
       "      <td>Arizona</td>\n",
       "      <td>1999</td>\n",
       "      <td>1999/05</td>\n",
       "      <td>I64</td>\n",
       "      <td>68</td>\n",
       "      <td>6410979.0</td>\n",
       "    </tr>\n",
       "    <tr>\n",
       "      <th>5</th>\n",
       "      <td>Arizona</td>\n",
       "      <td>1999</td>\n",
       "      <td>1999/06</td>\n",
       "      <td>I64</td>\n",
       "      <td>61</td>\n",
       "      <td>6410979.0</td>\n",
       "    </tr>\n",
       "    <tr>\n",
       "      <th>6</th>\n",
       "      <td>Arizona</td>\n",
       "      <td>1999</td>\n",
       "      <td>1999/07</td>\n",
       "      <td>I64</td>\n",
       "      <td>67</td>\n",
       "      <td>6410979.0</td>\n",
       "    </tr>\n",
       "    <tr>\n",
       "      <th>7</th>\n",
       "      <td>Arizona</td>\n",
       "      <td>1999</td>\n",
       "      <td>1999/08</td>\n",
       "      <td>I64</td>\n",
       "      <td>68</td>\n",
       "      <td>6410979.0</td>\n",
       "    </tr>\n",
       "    <tr>\n",
       "      <th>8</th>\n",
       "      <td>Arizona</td>\n",
       "      <td>1999</td>\n",
       "      <td>1999/09</td>\n",
       "      <td>I64</td>\n",
       "      <td>58</td>\n",
       "      <td>6410979.0</td>\n",
       "    </tr>\n",
       "    <tr>\n",
       "      <th>9</th>\n",
       "      <td>Arizona</td>\n",
       "      <td>1999</td>\n",
       "      <td>1999/10</td>\n",
       "      <td>I64</td>\n",
       "      <td>69</td>\n",
       "      <td>6410979.0</td>\n",
       "    </tr>\n",
       "    <tr>\n",
       "      <th>10</th>\n",
       "      <td>Arizona</td>\n",
       "      <td>1999</td>\n",
       "      <td>1999/11</td>\n",
       "      <td>I64</td>\n",
       "      <td>68</td>\n",
       "      <td>6410979.0</td>\n",
       "    </tr>\n",
       "    <tr>\n",
       "      <th>11</th>\n",
       "      <td>Arizona</td>\n",
       "      <td>1999</td>\n",
       "      <td>1999/12</td>\n",
       "      <td>I64</td>\n",
       "      <td>97</td>\n",
       "      <td>6410979.0</td>\n",
       "    </tr>\n",
       "    <tr>\n",
       "      <th>12</th>\n",
       "      <td>Arizona</td>\n",
       "      <td>2000</td>\n",
       "      <td>2000/01</td>\n",
       "      <td>I64</td>\n",
       "      <td>90</td>\n",
       "      <td>6410979.0</td>\n",
       "    </tr>\n",
       "    <tr>\n",
       "      <th>13</th>\n",
       "      <td>Arizona</td>\n",
       "      <td>2000</td>\n",
       "      <td>2000/02</td>\n",
       "      <td>I64</td>\n",
       "      <td>66</td>\n",
       "      <td>6410979.0</td>\n",
       "    </tr>\n",
       "    <tr>\n",
       "      <th>14</th>\n",
       "      <td>Arizona</td>\n",
       "      <td>2000</td>\n",
       "      <td>2000/03</td>\n",
       "      <td>I64</td>\n",
       "      <td>91</td>\n",
       "      <td>6410979.0</td>\n",
       "    </tr>\n",
       "    <tr>\n",
       "      <th>15</th>\n",
       "      <td>Arizona</td>\n",
       "      <td>2000</td>\n",
       "      <td>2000/04</td>\n",
       "      <td>I64</td>\n",
       "      <td>80</td>\n",
       "      <td>6410979.0</td>\n",
       "    </tr>\n",
       "    <tr>\n",
       "      <th>16</th>\n",
       "      <td>Arizona</td>\n",
       "      <td>2000</td>\n",
       "      <td>2000/05</td>\n",
       "      <td>I64</td>\n",
       "      <td>71</td>\n",
       "      <td>6410979.0</td>\n",
       "    </tr>\n",
       "    <tr>\n",
       "      <th>17</th>\n",
       "      <td>Arizona</td>\n",
       "      <td>2000</td>\n",
       "      <td>2000/06</td>\n",
       "      <td>I64</td>\n",
       "      <td>61</td>\n",
       "      <td>6410979.0</td>\n",
       "    </tr>\n",
       "    <tr>\n",
       "      <th>18</th>\n",
       "      <td>Arizona</td>\n",
       "      <td>2000</td>\n",
       "      <td>2000/07</td>\n",
       "      <td>I64</td>\n",
       "      <td>72</td>\n",
       "      <td>6410979.0</td>\n",
       "    </tr>\n",
       "    <tr>\n",
       "      <th>19</th>\n",
       "      <td>Arizona</td>\n",
       "      <td>2000</td>\n",
       "      <td>2000/08</td>\n",
       "      <td>I64</td>\n",
       "      <td>66</td>\n",
       "      <td>6410979.0</td>\n",
       "    </tr>\n",
       "  </tbody>\n",
       "</table>\n",
       "</div>"
      ],
      "text/plain": [
       "      State  Year Month Code Cause of death Code  Deaths  PopulationStr\n",
       "0   Arizona  1999    1999/01                 I64     100      6410979.0\n",
       "1   Arizona  1999    1999/02                 I64      83      6410979.0\n",
       "2   Arizona  1999    1999/03                 I64      81      6410979.0\n",
       "3   Arizona  1999    1999/04                 I64      76      6410979.0\n",
       "4   Arizona  1999    1999/05                 I64      68      6410979.0\n",
       "5   Arizona  1999    1999/06                 I64      61      6410979.0\n",
       "6   Arizona  1999    1999/07                 I64      67      6410979.0\n",
       "7   Arizona  1999    1999/08                 I64      68      6410979.0\n",
       "8   Arizona  1999    1999/09                 I64      58      6410979.0\n",
       "9   Arizona  1999    1999/10                 I64      69      6410979.0\n",
       "10  Arizona  1999    1999/11                 I64      68      6410979.0\n",
       "11  Arizona  1999    1999/12                 I64      97      6410979.0\n",
       "12  Arizona  2000    2000/01                 I64      90      6410979.0\n",
       "13  Arizona  2000    2000/02                 I64      66      6410979.0\n",
       "14  Arizona  2000    2000/03                 I64      91      6410979.0\n",
       "15  Arizona  2000    2000/04                 I64      80      6410979.0\n",
       "16  Arizona  2000    2000/05                 I64      71      6410979.0\n",
       "17  Arizona  2000    2000/06                 I64      61      6410979.0\n",
       "18  Arizona  2000    2000/07                 I64      72      6410979.0\n",
       "19  Arizona  2000    2000/08                 I64      66      6410979.0"
      ]
     },
     "execution_count": 112,
     "metadata": {},
     "output_type": "execute_result"
    }
   ],
   "source": [
    "stroke_death_with_pop.head(20)"
   ]
  },
  {
   "cell_type": "markdown",
   "metadata": {},
   "source": [
    "Добавим колонку с номером месяца"
   ]
  },
  {
   "cell_type": "code",
   "execution_count": 113,
   "metadata": {
    "collapsed": false
   },
   "outputs": [
    {
     "name": "stdout",
     "output_type": "stream",
     "text": [
      "05\n"
     ]
    }
   ],
   "source": [
    "s = '2000/05'\n",
    "ss = s[-2:]\n",
    "print(ss)"
   ]
  },
  {
   "cell_type": "code",
   "execution_count": 120,
   "metadata": {
    "collapsed": false
   },
   "outputs": [
    {
     "name": "stdout",
     "output_type": "stream",
     "text": [
      "05\n"
     ]
    }
   ],
   "source": [
    "month_suffix = lambda s: s[-2:]\n",
    "s = '2000/05'\n",
    "print(month_suffix(s))"
   ]
  },
  {
   "cell_type": "code",
   "execution_count": 128,
   "metadata": {
    "collapsed": false
   },
   "outputs": [],
   "source": [
    "stroke_death_with_pop['Month'] = stroke_death_with_pop['Month Code'].apply(month_suffix).apply(pd.to_numeric)\n",
    "stroke_death_with_pop['DeathPerMillion'] = stroke_death_with_pop['Deaths']/stroke_death_with_pop['PopulationStr']*1000000"
   ]
  },
  {
   "cell_type": "code",
   "execution_count": 129,
   "metadata": {
    "collapsed": false
   },
   "outputs": [
    {
     "data": {
      "text/html": [
       "<div>\n",
       "<style>\n",
       "    .dataframe thead tr:only-child th {\n",
       "        text-align: right;\n",
       "    }\n",
       "\n",
       "    .dataframe thead th {\n",
       "        text-align: left;\n",
       "    }\n",
       "\n",
       "    .dataframe tbody tr th {\n",
       "        vertical-align: top;\n",
       "    }\n",
       "</style>\n",
       "<table border=\"1\" class=\"dataframe\">\n",
       "  <thead>\n",
       "    <tr style=\"text-align: right;\">\n",
       "      <th></th>\n",
       "      <th>State</th>\n",
       "      <th>Year</th>\n",
       "      <th>Month Code</th>\n",
       "      <th>Cause of death Code</th>\n",
       "      <th>Deaths</th>\n",
       "      <th>PopulationStr</th>\n",
       "      <th>Month</th>\n",
       "      <th>DeathPerMillion</th>\n",
       "    </tr>\n",
       "  </thead>\n",
       "  <tbody>\n",
       "    <tr>\n",
       "      <th>0</th>\n",
       "      <td>Arizona</td>\n",
       "      <td>1999</td>\n",
       "      <td>1999/01</td>\n",
       "      <td>I64</td>\n",
       "      <td>100</td>\n",
       "      <td>6410979.0</td>\n",
       "      <td>1</td>\n",
       "      <td>15.598242</td>\n",
       "    </tr>\n",
       "    <tr>\n",
       "      <th>1</th>\n",
       "      <td>Arizona</td>\n",
       "      <td>1999</td>\n",
       "      <td>1999/02</td>\n",
       "      <td>I64</td>\n",
       "      <td>83</td>\n",
       "      <td>6410979.0</td>\n",
       "      <td>2</td>\n",
       "      <td>12.946541</td>\n",
       "    </tr>\n",
       "    <tr>\n",
       "      <th>2</th>\n",
       "      <td>Arizona</td>\n",
       "      <td>1999</td>\n",
       "      <td>1999/03</td>\n",
       "      <td>I64</td>\n",
       "      <td>81</td>\n",
       "      <td>6410979.0</td>\n",
       "      <td>3</td>\n",
       "      <td>12.634576</td>\n",
       "    </tr>\n",
       "    <tr>\n",
       "      <th>3</th>\n",
       "      <td>Arizona</td>\n",
       "      <td>1999</td>\n",
       "      <td>1999/04</td>\n",
       "      <td>I64</td>\n",
       "      <td>76</td>\n",
       "      <td>6410979.0</td>\n",
       "      <td>4</td>\n",
       "      <td>11.854664</td>\n",
       "    </tr>\n",
       "    <tr>\n",
       "      <th>4</th>\n",
       "      <td>Arizona</td>\n",
       "      <td>1999</td>\n",
       "      <td>1999/05</td>\n",
       "      <td>I64</td>\n",
       "      <td>68</td>\n",
       "      <td>6410979.0</td>\n",
       "      <td>5</td>\n",
       "      <td>10.606804</td>\n",
       "    </tr>\n",
       "  </tbody>\n",
       "</table>\n",
       "</div>"
      ],
      "text/plain": [
       "     State  Year Month Code Cause of death Code  Deaths  PopulationStr  Month  \\\n",
       "0  Arizona  1999    1999/01                 I64     100      6410979.0      1   \n",
       "1  Arizona  1999    1999/02                 I64      83      6410979.0      2   \n",
       "2  Arizona  1999    1999/03                 I64      81      6410979.0      3   \n",
       "3  Arizona  1999    1999/04                 I64      76      6410979.0      4   \n",
       "4  Arizona  1999    1999/05                 I64      68      6410979.0      5   \n",
       "\n",
       "   DeathPerMillion  \n",
       "0        15.598242  \n",
       "1        12.946541  \n",
       "2        12.634576  \n",
       "3        11.854664  \n",
       "4        10.606804  "
      ]
     },
     "execution_count": 129,
     "metadata": {},
     "output_type": "execute_result"
    }
   ],
   "source": [
    "stroke_death_with_pop.head()"
   ]
  },
  {
   "cell_type": "markdown",
   "metadata": {},
   "source": [
    "# Смертность в крупнейших штатах\n",
    "\n",
    "<p><img src=\"https://www.cdc.gov/stroke/images/stroke-map.jpg\"></p>\n",
    "\n",
    "Выберем данные соответствующие 10 крупнейшим штатам "
   ]
  },
  {
   "cell_type": "code",
   "execution_count": 132,
   "metadata": {
    "collapsed": false
   },
   "outputs": [],
   "source": [
    "most_populated_states = sp1.sort_values(by=['PopulationStr'], ascending=[False])"
   ]
  },
  {
   "cell_type": "code",
   "execution_count": 133,
   "metadata": {
    "collapsed": false
   },
   "outputs": [
    {
     "data": {
      "text/html": [
       "<div>\n",
       "<style>\n",
       "    .dataframe thead tr:only-child th {\n",
       "        text-align: right;\n",
       "    }\n",
       "\n",
       "    .dataframe thead th {\n",
       "        text-align: left;\n",
       "    }\n",
       "\n",
       "    .dataframe tbody tr th {\n",
       "        vertical-align: top;\n",
       "    }\n",
       "</style>\n",
       "<table border=\"1\" class=\"dataframe\">\n",
       "  <thead>\n",
       "    <tr style=\"text-align: right;\">\n",
       "      <th></th>\n",
       "      <th>State</th>\n",
       "      <th>PopulationStr</th>\n",
       "    </tr>\n",
       "  </thead>\n",
       "  <tbody>\n",
       "    <tr>\n",
       "      <th>3</th>\n",
       "      <td>California</td>\n",
       "      <td>37325068.0</td>\n",
       "    </tr>\n",
       "    <tr>\n",
       "      <th>43</th>\n",
       "      <td>Texas</td>\n",
       "      <td>25208897.0</td>\n",
       "    </tr>\n",
       "    <tr>\n",
       "      <th>31</th>\n",
       "      <td>New York</td>\n",
       "      <td>19398125.0</td>\n",
       "    </tr>\n",
       "    <tr>\n",
       "      <th>8</th>\n",
       "      <td>Florida</td>\n",
       "      <td>18885152.0</td>\n",
       "    </tr>\n",
       "    <tr>\n",
       "      <th>12</th>\n",
       "      <td>Illinois</td>\n",
       "      <td>12823860.0</td>\n",
       "    </tr>\n",
       "  </tbody>\n",
       "</table>\n",
       "</div>"
      ],
      "text/plain": [
       "         State  PopulationStr\n",
       "3   California     37325068.0\n",
       "43       Texas     25208897.0\n",
       "31    New York     19398125.0\n",
       "8      Florida     18885152.0\n",
       "12    Illinois     12823860.0"
      ]
     },
     "execution_count": 133,
     "metadata": {},
     "output_type": "execute_result"
    }
   ],
   "source": [
    "most_populated_states.head()"
   ]
  },
  {
   "cell_type": "code",
   "execution_count": 147,
   "metadata": {
    "collapsed": false
   },
   "outputs": [
    {
     "name": "stdout",
     "output_type": "stream",
     "text": [
      "['California', 'Texas', 'New York', 'Florida', 'Illinois', 'Pennsylvania', 'Ohio', 'Michigan', 'Georgia', 'North Carolina']\n"
     ]
    }
   ],
   "source": [
    "states_names_01_10 = most_populated_states.iloc[:10]['State'].tolist()\n",
    "print(states_names_01_10)"
   ]
  },
  {
   "cell_type": "code",
   "execution_count": 148,
   "metadata": {
    "collapsed": true
   },
   "outputs": [],
   "source": [
    "stroke_death_most_populted_01_10 = stroke_death_with_pop[stroke_death_with_pop['State'].isin(states_names_01_10)]"
   ]
  },
  {
   "cell_type": "code",
   "execution_count": 150,
   "metadata": {
    "collapsed": false
   },
   "outputs": [
    {
     "data": {
      "image/png": "[encoded data removed]",
      "text/plain": [
       "<matplotlib.figure.Figure at 0x1dfd3ab0668>"
      ]
     },
     "metadata": {},
     "output_type": "display_data"
    }
   ],
   "source": [
    "import matplotlib.pyplot as plt\n",
    "stroke_death_most_populted_01_10.boxplot(by='State', \n",
    "                       column=['DeathPerMillion'], \n",
    "                       grid=False, rot=90)\n",
    "plt.title(\"Stroke death by states\")\n",
    "# get rid of the automatic 'Boxplot grouped by group_by_column_name' title\n",
    "plt.suptitle(\"\")\n",
    "\n",
    "plt.show()"
   ]
  },
  {
   "cell_type": "markdown",
   "metadata": {},
   "source": [
    "Следующие 10 штатов"
   ]
  },
  {
   "cell_type": "code",
   "execution_count": 151,
   "metadata": {
    "collapsed": false
   },
   "outputs": [
    {
     "data": {
      "image/png": "[encoded data removed]",
      "text/plain": [
       "<matplotlib.figure.Figure at 0x1dfd3da7908>"
      ]
     },
     "metadata": {},
     "output_type": "display_data"
    }
   ],
   "source": [
    "states_names_11_20 = most_populated_states.iloc[11:20]['State'].tolist()\n",
    "stroke_death_most_populted_11_20 = stroke_death_with_pop[stroke_death_with_pop['State'].isin(states_names_11_20)]\n",
    "stroke_death_most_populted_11_20.boxplot(by='State', \n",
    "                       column=['DeathPerMillion'], \n",
    "                       grid=False, rot=90)\n",
    "plt.title(\"Stroke death by states\")\n",
    "# get rid of the automatic 'Boxplot grouped by group_by_column_name' title\n",
    "plt.suptitle(\"\")\n",
    "\n",
    "plt.show()"
   ]
  },
  {
   "cell_type": "markdown",
   "metadata": {},
   "source": [
    "# Карта США\n",
    "\n",
    "<p><img src=\"http://states-of-america.ru/karty-ssha/karty/karta-shtatov-ssha.jpg\"></p>"
   ]
  },
  {
   "cell_type": "markdown",
   "metadata": {},
   "source": [
    "Рассмотреть смертность только в летние месяцы, будут ли отличаться показатели южных и северных штатов сильнее?"
   ]
  },
  {
   "cell_type": "code",
   "execution_count": 154,
   "metadata": {
    "collapsed": false
   },
   "outputs": [
    {
     "data": {
      "text/html": [
       "<div>\n",
       "<style>\n",
       "    .dataframe thead tr:only-child th {\n",
       "        text-align: right;\n",
       "    }\n",
       "\n",
       "    .dataframe thead th {\n",
       "        text-align: left;\n",
       "    }\n",
       "\n",
       "    .dataframe tbody tr th {\n",
       "        vertical-align: top;\n",
       "    }\n",
       "</style>\n",
       "<table border=\"1\" class=\"dataframe\">\n",
       "  <thead>\n",
       "    <tr style=\"text-align: right;\">\n",
       "      <th></th>\n",
       "      <th>State</th>\n",
       "      <th>Year</th>\n",
       "      <th>Month Code</th>\n",
       "      <th>Cause of death Code</th>\n",
       "      <th>Deaths</th>\n",
       "      <th>PopulationStr</th>\n",
       "      <th>Month</th>\n",
       "      <th>DeathPerMillion</th>\n",
       "    </tr>\n",
       "  </thead>\n",
       "  <tbody>\n",
       "    <tr>\n",
       "      <th>4</th>\n",
       "      <td>Arizona</td>\n",
       "      <td>1999</td>\n",
       "      <td>1999/05</td>\n",
       "      <td>I64</td>\n",
       "      <td>68</td>\n",
       "      <td>6410979.0</td>\n",
       "      <td>5</td>\n",
       "      <td>10.606804</td>\n",
       "    </tr>\n",
       "    <tr>\n",
       "      <th>5</th>\n",
       "      <td>Arizona</td>\n",
       "      <td>1999</td>\n",
       "      <td>1999/06</td>\n",
       "      <td>I64</td>\n",
       "      <td>61</td>\n",
       "      <td>6410979.0</td>\n",
       "      <td>6</td>\n",
       "      <td>9.514927</td>\n",
       "    </tr>\n",
       "    <tr>\n",
       "      <th>6</th>\n",
       "      <td>Arizona</td>\n",
       "      <td>1999</td>\n",
       "      <td>1999/07</td>\n",
       "      <td>I64</td>\n",
       "      <td>67</td>\n",
       "      <td>6410979.0</td>\n",
       "      <td>7</td>\n",
       "      <td>10.450822</td>\n",
       "    </tr>\n",
       "    <tr>\n",
       "      <th>7</th>\n",
       "      <td>Arizona</td>\n",
       "      <td>1999</td>\n",
       "      <td>1999/08</td>\n",
       "      <td>I64</td>\n",
       "      <td>68</td>\n",
       "      <td>6410979.0</td>\n",
       "      <td>8</td>\n",
       "      <td>10.606804</td>\n",
       "    </tr>\n",
       "    <tr>\n",
       "      <th>8</th>\n",
       "      <td>Arizona</td>\n",
       "      <td>1999</td>\n",
       "      <td>1999/09</td>\n",
       "      <td>I64</td>\n",
       "      <td>58</td>\n",
       "      <td>6410979.0</td>\n",
       "      <td>9</td>\n",
       "      <td>9.046980</td>\n",
       "    </tr>\n",
       "  </tbody>\n",
       "</table>\n",
       "</div>"
      ],
      "text/plain": [
       "     State  Year Month Code Cause of death Code  Deaths  PopulationStr  Month  \\\n",
       "4  Arizona  1999    1999/05                 I64      68      6410979.0      5   \n",
       "5  Arizona  1999    1999/06                 I64      61      6410979.0      6   \n",
       "6  Arizona  1999    1999/07                 I64      67      6410979.0      7   \n",
       "7  Arizona  1999    1999/08                 I64      68      6410979.0      8   \n",
       "8  Arizona  1999    1999/09                 I64      58      6410979.0      9   \n",
       "\n",
       "   DeathPerMillion  \n",
       "4        10.606804  \n",
       "5         9.514927  \n",
       "6        10.450822  \n",
       "7        10.606804  \n",
       "8         9.046980  "
      ]
     },
     "execution_count": 154,
     "metadata": {},
     "output_type": "execute_result"
    }
   ],
   "source": [
    "# base dataframe stroke_death_with_pop\n",
    "summer_stroke_death = stroke_death_with_pop[(stroke_death_with_pop['Month']>=5) & (stroke_death_with_pop['Month']<=9)]\n",
    "summer_stroke_death.head()"
   ]
  },
  {
   "cell_type": "markdown",
   "metadata": {},
   "source": [
    "Повторим все шаги для этого подмножества данных."
   ]
  },
  {
   "cell_type": "code",
   "execution_count": 155,
   "metadata": {
    "collapsed": true
   },
   "outputs": [],
   "source": [
    "summer_stroke_death_01_10 = summer_stroke_death[summer_stroke_death['State'].isin(states_names_01_10)]\n",
    "summer_stroke_death_11_20 = summer_stroke_death[summer_stroke_death['State'].isin(states_names_11_20)]"
   ]
  },
  {
   "cell_type": "code",
   "execution_count": 157,
   "metadata": {
    "collapsed": false
   },
   "outputs": [
    {
     "data": {
      "image/png": "[encoded data removed]",
      "text/plain": [
       "<matplotlib.figure.Figure at 0x1dfd3ec9b70>"
      ]
     },
     "metadata": {},
     "output_type": "display_data"
    }
   ],
   "source": [
    "summer_stroke_death_01_10.boxplot(by='State', \n",
    "                       column=['DeathPerMillion'], \n",
    "                       grid=False, rot=90)\n",
    "plt.title(\"Summer monthes. Stroke death by states: 1-10\")\n",
    "plt.suptitle(\"\")\n",
    "\n",
    "plt.show()"
   ]
  },
  {
   "cell_type": "code",
   "execution_count": 158,
   "metadata": {
    "collapsed": false
   },
   "outputs": [
    {
     "data": {
      "image/png": "[encoded data removed]",
      "text/plain": [
       "<matplotlib.figure.Figure at 0x1dfd3dbe828>"
      ]
     },
     "metadata": {},
     "output_type": "display_data"
    }
   ],
   "source": [
    "summer_stroke_death_11_20.boxplot(by='State', \n",
    "                       column=['DeathPerMillion'], \n",
    "                       grid=False, rot=90)\n",
    "plt.title(\"Summer monthes. Stroke death by states: 11-20\")\n",
    "plt.suptitle(\"\")\n",
    "\n",
    "plt.show()"
   ]
  },
  {
   "cell_type": "markdown",
   "metadata": {},
   "source": [
    "Вычислить персентили для \"контрастных\" штатов Новая Дакота и  Нью Мехико. Графики прироста средней температур по штатам"
   ]
  },
  {
   "cell_type": "markdown",
   "metadata": {},
   "source": [
    "для \"контрастных\" штатов Новая Дакота и  Нью Мехико построить зависимость приростов смертности и прироста температурі \n",
    "добавить гистограммі \n",
    "сравнение в рамках одного щтата за разніе периоді: Флорида (лето, осень )"
   ]
  },
  {
   "cell_type": "markdown",
   "metadata": {},
   "source": [
    "# Florida detailed investigation\n",
    "let's load temperature data for Florida state"
   ]
  },
  {
   "cell_type": "code",
   "execution_count": 184,
   "metadata": {
    "collapsed": false
   },
   "outputs": [
    {
     "name": "stdout",
     "output_type": "stream",
     "text": [
      "   Notes    State  State Code  Year  Year Code Month  Month Code  \\\n",
      "0    NaN  Florida          12  1999       1999   Jan           1   \n",
      "1    NaN  Florida          12  1999       1999   Jan           1   \n",
      "2    NaN  Florida          12  1999       1999   Jan           1   \n",
      "3    NaN  Florida          12  1999       1999   Jan           1   \n",
      "4    NaN  Florida          12  1999       1999   Jan           1   \n",
      "\n",
      "   Day of Month  Day of Month Code  Avg Daily Max Air Temperature (C)  \n",
      "0             1                  1                              21.58  \n",
      "1             2                  2                              24.38  \n",
      "2             3                  3                              21.12  \n",
      "3             4                  4                              10.94  \n",
      "4             5                  5                               6.89  \n"
     ]
    }
   ],
   "source": [
    "# Assign filename: file\n",
    "file = 'datasets/maxTempByMonthYear1999-2011Florida.txt'\n",
    "\n",
    "# Import file: data\n",
    "raw_temp_florida_data = pd.read_csv(file, sep='\\t', converters={\"Year\":int, \n",
    "                                                                'Month Code':int, \n",
    "                                                                'Day of Month':int,\n",
    "                                                                'Avg Daily Max Air Temperature (C)':float})\n",
    "\n",
    "# Print the head of the DataFrame\n",
    "print(raw_temp_florida_data.head())"
   ]
  },
  {
   "cell_type": "code",
   "execution_count": 185,
   "metadata": {
    "collapsed": true
   },
   "outputs": [],
   "source": [
    "florida_temp_data = raw_temp_florida_data[['State', 'Year', 'Month Code', 'Day of Month', 'Avg Daily Max Air Temperature (C)']]"
   ]
  },
  {
   "cell_type": "code",
   "execution_count": 186,
   "metadata": {
    "collapsed": true
   },
   "outputs": [],
   "source": [
    "florida_temp_data.columns = ['state','year', 'month','day','max_temp']"
   ]
  },
  {
   "cell_type": "code",
   "execution_count": 187,
   "metadata": {
    "collapsed": false
   },
   "outputs": [
    {
     "data": {
      "text/html": [
       "<div>\n",
       "<style>\n",
       "    .dataframe thead tr:only-child th {\n",
       "        text-align: right;\n",
       "    }\n",
       "\n",
       "    .dataframe thead th {\n",
       "        text-align: left;\n",
       "    }\n",
       "\n",
       "    .dataframe tbody tr th {\n",
       "        vertical-align: top;\n",
       "    }\n",
       "</style>\n",
       "<table border=\"1\" class=\"dataframe\">\n",
       "  <thead>\n",
       "    <tr style=\"text-align: right;\">\n",
       "      <th></th>\n",
       "      <th>state</th>\n",
       "      <th>year</th>\n",
       "      <th>month</th>\n",
       "      <th>day</th>\n",
       "      <th>max_temp</th>\n",
       "    </tr>\n",
       "  </thead>\n",
       "  <tbody>\n",
       "    <tr>\n",
       "      <th>0</th>\n",
       "      <td>Florida</td>\n",
       "      <td>1999</td>\n",
       "      <td>1</td>\n",
       "      <td>1</td>\n",
       "      <td>21.58</td>\n",
       "    </tr>\n",
       "    <tr>\n",
       "      <th>1</th>\n",
       "      <td>Florida</td>\n",
       "      <td>1999</td>\n",
       "      <td>1</td>\n",
       "      <td>2</td>\n",
       "      <td>24.38</td>\n",
       "    </tr>\n",
       "    <tr>\n",
       "      <th>2</th>\n",
       "      <td>Florida</td>\n",
       "      <td>1999</td>\n",
       "      <td>1</td>\n",
       "      <td>3</td>\n",
       "      <td>21.12</td>\n",
       "    </tr>\n",
       "    <tr>\n",
       "      <th>3</th>\n",
       "      <td>Florida</td>\n",
       "      <td>1999</td>\n",
       "      <td>1</td>\n",
       "      <td>4</td>\n",
       "      <td>10.94</td>\n",
       "    </tr>\n",
       "    <tr>\n",
       "      <th>4</th>\n",
       "      <td>Florida</td>\n",
       "      <td>1999</td>\n",
       "      <td>1</td>\n",
       "      <td>5</td>\n",
       "      <td>6.89</td>\n",
       "    </tr>\n",
       "  </tbody>\n",
       "</table>\n",
       "</div>"
      ],
      "text/plain": [
       "     state  year  month  day  max_temp\n",
       "0  Florida  1999      1    1     21.58\n",
       "1  Florida  1999      1    2     24.38\n",
       "2  Florida  1999      1    3     21.12\n",
       "3  Florida  1999      1    4     10.94\n",
       "4  Florida  1999      1    5      6.89"
      ]
     },
     "execution_count": 187,
     "metadata": {},
     "output_type": "execute_result"
    }
   ],
   "source": [
    "florida_temp_data.head()"
   ]
  },
  {
   "cell_type": "code",
   "execution_count": 188,
   "metadata": {
    "collapsed": true
   },
   "outputs": [],
   "source": [
    "florida_summer_temp = florida_temp_data[(florida_temp_data['month']>=5)&(florida_temp_data['month']<=8)]"
   ]
  },
  {
   "cell_type": "code",
   "execution_count": 213,
   "metadata": {
    "collapsed": true
   },
   "outputs": [],
   "source": [
    "florida_autumn_temp = florida_temp_data[(florida_temp_data['month']>=9)&(florida_temp_data['month']<=11)]\n",
    "florida_temp = florida_temp_data[(florida_temp_data['month']>=5)&(florida_temp_data['month']<=11)]"
   ]
  },
  {
   "cell_type": "markdown",
   "metadata": {},
   "source": [
    "Построим гистограммы для средней месячной температуры для лета и осени:"
   ]
  },
  {
   "cell_type": "code",
   "execution_count": 214,
   "metadata": {
    "collapsed": false
   },
   "outputs": [
    {
     "data": {
      "text/html": [
       "<div>\n",
       "<style>\n",
       "    .dataframe thead tr:only-child th {\n",
       "        text-align: right;\n",
       "    }\n",
       "\n",
       "    .dataframe thead th {\n",
       "        text-align: left;\n",
       "    }\n",
       "\n",
       "    .dataframe tbody tr th {\n",
       "        vertical-align: top;\n",
       "    }\n",
       "</style>\n",
       "<table border=\"1\" class=\"dataframe\">\n",
       "  <thead>\n",
       "    <tr style=\"text-align: right;\">\n",
       "      <th></th>\n",
       "      <th>month</th>\n",
       "      <th>max_temp</th>\n",
       "    </tr>\n",
       "  </thead>\n",
       "  <tbody>\n",
       "    <tr>\n",
       "      <th>0</th>\n",
       "      <td>5</td>\n",
       "      <td>30.217990</td>\n",
       "    </tr>\n",
       "    <tr>\n",
       "      <th>1</th>\n",
       "      <td>6</td>\n",
       "      <td>31.842795</td>\n",
       "    </tr>\n",
       "    <tr>\n",
       "      <th>2</th>\n",
       "      <td>7</td>\n",
       "      <td>32.129355</td>\n",
       "    </tr>\n",
       "    <tr>\n",
       "      <th>3</th>\n",
       "      <td>8</td>\n",
       "      <td>32.159429</td>\n",
       "    </tr>\n",
       "    <tr>\n",
       "      <th>4</th>\n",
       "      <td>9</td>\n",
       "      <td>30.771897</td>\n",
       "    </tr>\n",
       "    <tr>\n",
       "      <th>5</th>\n",
       "      <td>10</td>\n",
       "      <td>27.788710</td>\n",
       "    </tr>\n",
       "    <tr>\n",
       "      <th>6</th>\n",
       "      <td>11</td>\n",
       "      <td>23.914071</td>\n",
       "    </tr>\n",
       "  </tbody>\n",
       "</table>\n",
       "</div>"
      ],
      "text/plain": [
       "   month   max_temp\n",
       "0      5  30.217990\n",
       "1      6  31.842795\n",
       "2      7  32.129355\n",
       "3      8  32.159429\n",
       "4      9  30.771897\n",
       "5     10  27.788710\n",
       "6     11  23.914071"
      ]
     },
     "execution_count": 214,
     "metadata": {},
     "output_type": "execute_result"
    }
   ],
   "source": [
    "fs = florida_summer_temp.groupby(['month'])['max_temp'].mean().to_frame().reset_index()\n",
    "fa = florida_autumn_temp.groupby(['month'])['max_temp'].mean().to_frame().reset_index()\n",
    "fboth = florida_temp.groupby(['month'])['max_temp'].mean().to_frame().reset_index()\n",
    "fboth"
   ]
  },
  {
   "cell_type": "code",
   "execution_count": 218,
   "metadata": {
    "collapsed": false,
    "scrolled": false
   },
   "outputs": [
    {
     "data": {
      "image/png": "[encoded data removed]",
      "text/plain": [
       "<matplotlib.figure.Figure at 0x1dfd64b07b8>"
      ]
     },
     "metadata": {},
     "output_type": "display_data"
    }
   ],
   "source": [
    "ax = fboth.plot(x='month', y='max_temp', kind='bar', \n",
    "                title =\"Average max. temperature in Florida (1999-2011)\", \n",
    "                figsize=(15, 10), legend=True, fontsize=12)\n",
    "ax.set_xlabel(\"Month number\", fontsize=12)\n",
    "ax.set_ylabel(\"Avg max. temp.\", fontsize=12)\n",
    "plt.show()"
   ]
  },
  {
   "cell_type": "markdown",
   "metadata": {},
   "source": [
    "Создадим 2 базы для Флориды с показателями смертности"
   ]
  },
  {
   "cell_type": "code",
   "execution_count": 239,
   "metadata": {
    "collapsed": false
   },
   "outputs": [],
   "source": [
    "florda_summer = stroke_death_with_pop[(stroke_death_with_pop['Month']>=5) \n",
    "                                      & (stroke_death_with_pop['Month']<=8) \n",
    "                                      & (stroke_death_with_pop['State'] == 'Florida') ]\n",
    "florda_autumn = stroke_death_with_pop[(stroke_death_with_pop['Month']>=9) \n",
    "                                      & (stroke_death_with_pop['Month']<=10) \n",
    "                                      & (stroke_death_with_pop['State'] == 'Florida') ]\n",
    "\n"
   ]
  },
  {
   "cell_type": "code",
   "execution_count": 240,
   "metadata": {
    "collapsed": false
   },
   "outputs": [
    {
     "data": {
      "text/html": [
       "<div>\n",
       "<style>\n",
       "    .dataframe thead tr:only-child th {\n",
       "        text-align: right;\n",
       "    }\n",
       "\n",
       "    .dataframe thead th {\n",
       "        text-align: left;\n",
       "    }\n",
       "\n",
       "    .dataframe tbody tr th {\n",
       "        vertical-align: top;\n",
       "    }\n",
       "</style>\n",
       "<table border=\"1\" class=\"dataframe\">\n",
       "  <thead>\n",
       "    <tr style=\"text-align: right;\">\n",
       "      <th></th>\n",
       "      <th>State</th>\n",
       "      <th>Year</th>\n",
       "      <th>Month Code</th>\n",
       "      <th>Cause of death Code</th>\n",
       "      <th>Deaths</th>\n",
       "      <th>PopulationStr</th>\n",
       "      <th>Month</th>\n",
       "      <th>DeathPerMillion</th>\n",
       "    </tr>\n",
       "  </thead>\n",
       "  <tbody>\n",
       "    <tr>\n",
       "      <th>868</th>\n",
       "      <td>Florida</td>\n",
       "      <td>1999</td>\n",
       "      <td>1999/05</td>\n",
       "      <td>I64</td>\n",
       "      <td>260</td>\n",
       "      <td>18885152.0</td>\n",
       "      <td>5</td>\n",
       "      <td>13.767430</td>\n",
       "    </tr>\n",
       "    <tr>\n",
       "      <th>869</th>\n",
       "      <td>Florida</td>\n",
       "      <td>1999</td>\n",
       "      <td>1999/06</td>\n",
       "      <td>I64</td>\n",
       "      <td>254</td>\n",
       "      <td>18885152.0</td>\n",
       "      <td>6</td>\n",
       "      <td>13.449720</td>\n",
       "    </tr>\n",
       "    <tr>\n",
       "      <th>870</th>\n",
       "      <td>Florida</td>\n",
       "      <td>1999</td>\n",
       "      <td>1999/07</td>\n",
       "      <td>I64</td>\n",
       "      <td>288</td>\n",
       "      <td>18885152.0</td>\n",
       "      <td>7</td>\n",
       "      <td>15.250076</td>\n",
       "    </tr>\n",
       "    <tr>\n",
       "      <th>871</th>\n",
       "      <td>Florida</td>\n",
       "      <td>1999</td>\n",
       "      <td>1999/08</td>\n",
       "      <td>I64</td>\n",
       "      <td>257</td>\n",
       "      <td>18885152.0</td>\n",
       "      <td>8</td>\n",
       "      <td>13.608575</td>\n",
       "    </tr>\n",
       "    <tr>\n",
       "      <th>880</th>\n",
       "      <td>Florida</td>\n",
       "      <td>2000</td>\n",
       "      <td>2000/05</td>\n",
       "      <td>I64</td>\n",
       "      <td>235</td>\n",
       "      <td>18885152.0</td>\n",
       "      <td>5</td>\n",
       "      <td>12.443638</td>\n",
       "    </tr>\n",
       "  </tbody>\n",
       "</table>\n",
       "</div>"
      ],
      "text/plain": [
       "       State  Year Month Code Cause of death Code  Deaths  PopulationStr  \\\n",
       "868  Florida  1999    1999/05                 I64     260     18885152.0   \n",
       "869  Florida  1999    1999/06                 I64     254     18885152.0   \n",
       "870  Florida  1999    1999/07                 I64     288     18885152.0   \n",
       "871  Florida  1999    1999/08                 I64     257     18885152.0   \n",
       "880  Florida  2000    2000/05                 I64     235     18885152.0   \n",
       "\n",
       "     Month  DeathPerMillion  \n",
       "868      5        13.767430  \n",
       "869      6        13.449720  \n",
       "870      7        15.250076  \n",
       "871      8        13.608575  \n",
       "880      5        12.443638  "
      ]
     },
     "execution_count": 240,
     "metadata": {},
     "output_type": "execute_result"
    }
   ],
   "source": [
    "florda_summer.head()"
   ]
  },
  {
   "cell_type": "code",
   "execution_count": 241,
   "metadata": {
    "collapsed": false
   },
   "outputs": [
    {
     "data": {
      "text/html": [
       "<div>\n",
       "<style>\n",
       "    .dataframe thead tr:only-child th {\n",
       "        text-align: right;\n",
       "    }\n",
       "\n",
       "    .dataframe thead th {\n",
       "        text-align: left;\n",
       "    }\n",
       "\n",
       "    .dataframe tbody tr th {\n",
       "        vertical-align: top;\n",
       "    }\n",
       "</style>\n",
       "<table border=\"1\" class=\"dataframe\">\n",
       "  <thead>\n",
       "    <tr style=\"text-align: right;\">\n",
       "      <th></th>\n",
       "      <th>State</th>\n",
       "      <th>Year</th>\n",
       "      <th>Month Code</th>\n",
       "      <th>Cause of death Code</th>\n",
       "      <th>Deaths</th>\n",
       "      <th>PopulationStr</th>\n",
       "      <th>Month</th>\n",
       "      <th>DeathPerMillion</th>\n",
       "    </tr>\n",
       "  </thead>\n",
       "  <tbody>\n",
       "    <tr>\n",
       "      <th>872</th>\n",
       "      <td>Florida</td>\n",
       "      <td>1999</td>\n",
       "      <td>1999/09</td>\n",
       "      <td>I64</td>\n",
       "      <td>223</td>\n",
       "      <td>18885152.0</td>\n",
       "      <td>9</td>\n",
       "      <td>11.808218</td>\n",
       "    </tr>\n",
       "    <tr>\n",
       "      <th>873</th>\n",
       "      <td>Florida</td>\n",
       "      <td>1999</td>\n",
       "      <td>1999/10</td>\n",
       "      <td>I64</td>\n",
       "      <td>258</td>\n",
       "      <td>18885152.0</td>\n",
       "      <td>10</td>\n",
       "      <td>13.661526</td>\n",
       "    </tr>\n",
       "    <tr>\n",
       "      <th>884</th>\n",
       "      <td>Florida</td>\n",
       "      <td>2000</td>\n",
       "      <td>2000/09</td>\n",
       "      <td>I64</td>\n",
       "      <td>232</td>\n",
       "      <td>18885152.0</td>\n",
       "      <td>9</td>\n",
       "      <td>12.284783</td>\n",
       "    </tr>\n",
       "    <tr>\n",
       "      <th>885</th>\n",
       "      <td>Florida</td>\n",
       "      <td>2000</td>\n",
       "      <td>2000/10</td>\n",
       "      <td>I64</td>\n",
       "      <td>288</td>\n",
       "      <td>18885152.0</td>\n",
       "      <td>10</td>\n",
       "      <td>15.250076</td>\n",
       "    </tr>\n",
       "    <tr>\n",
       "      <th>896</th>\n",
       "      <td>Florida</td>\n",
       "      <td>2001</td>\n",
       "      <td>2001/09</td>\n",
       "      <td>I64</td>\n",
       "      <td>244</td>\n",
       "      <td>18885152.0</td>\n",
       "      <td>9</td>\n",
       "      <td>12.920203</td>\n",
       "    </tr>\n",
       "  </tbody>\n",
       "</table>\n",
       "</div>"
      ],
      "text/plain": [
       "       State  Year Month Code Cause of death Code  Deaths  PopulationStr  \\\n",
       "872  Florida  1999    1999/09                 I64     223     18885152.0   \n",
       "873  Florida  1999    1999/10                 I64     258     18885152.0   \n",
       "884  Florida  2000    2000/09                 I64     232     18885152.0   \n",
       "885  Florida  2000    2000/10                 I64     288     18885152.0   \n",
       "896  Florida  2001    2001/09                 I64     244     18885152.0   \n",
       "\n",
       "     Month  DeathPerMillion  \n",
       "872      9        11.808218  \n",
       "873     10        13.661526  \n",
       "884      9        12.284783  \n",
       "885     10        15.250076  \n",
       "896      9        12.920203  "
      ]
     },
     "execution_count": 241,
     "metadata": {},
     "output_type": "execute_result"
    }
   ],
   "source": [
    "florda_autumn.head()"
   ]
  },
  {
   "cell_type": "code",
   "execution_count": 242,
   "metadata": {
    "collapsed": false
   },
   "outputs": [
    {
     "data": {
      "image/png": "[encoded data removed]",
      "text/plain": [
       "<matplotlib.figure.Figure at 0x1dfd60acba8>"
      ]
     },
     "metadata": {},
     "output_type": "display_data"
    }
   ],
   "source": [
    "# Ploting the bootstrap % difference\n",
    "ax = florda_summer['DeathPerMillion'].plot.kde()\n",
    "_ = ax.set_xlabel('stroke: deaths per million')\n",
    "_ = ax.set_ylabel('probability')"
   ]
  },
  {
   "cell_type": "code",
   "execution_count": 243,
   "metadata": {
    "collapsed": false
   },
   "outputs": [
    {
     "data": {
      "image/png": "[encoded data removed]",
      "text/plain": [
       "<matplotlib.figure.Figure at 0x1dfd629d0f0>"
      ]
     },
     "metadata": {},
     "output_type": "display_data"
    }
   ],
   "source": [
    "# Ploting the bootstrap % difference\n",
    "ax = florda_autumn['DeathPerMillion'].plot.kde()\n",
    "_ = ax.set_xlabel('stroke: deaths per million')\n",
    "_ = ax.set_ylabel('probability')"
   ]
  },
  {
   "cell_type": "code",
   "execution_count": 244,
   "metadata": {
    "collapsed": false
   },
   "outputs": [
    {
     "data": {
      "image/png": "[encoded data removed]",
      "text/plain": [
       "<matplotlib.figure.Figure at 0x1dfd630d128>"
      ]
     },
     "metadata": {},
     "output_type": "display_data"
    }
   ],
   "source": [
    "fig, ax1 = plt.subplots()\n",
    "florda_summer['DeathPerMillion'].plot(kind='density')\n",
    "florda_autumn['DeathPerMillion'].plot(kind='density')\n",
    "ax1.set_xlabel(\"Death per million\")\n",
    "plt.show()"
   ]
  },
  {
   "cell_type": "code",
   "execution_count": 245,
   "metadata": {
    "collapsed": true
   },
   "outputs": [],
   "source": [
    "summer_deaths_mean = florda_summer['DeathPerMillion'].mean()"
   ]
  },
  {
   "cell_type": "code",
   "execution_count": 246,
   "metadata": {
    "collapsed": true
   },
   "outputs": [],
   "source": [
    "autumn_deaths_mean = florda_autumn['DeathPerMillion'].mean()"
   ]
  },
  {
   "cell_type": "code",
   "execution_count": 247,
   "metadata": {
    "collapsed": false
   },
   "outputs": [
    {
     "name": "stdout",
     "output_type": "stream",
     "text": [
      "summer_deaths_mean:  11.399879732949016\n",
      "autumn_deaths_mean:  11.274628709532063\n"
     ]
    }
   ],
   "source": [
    "print('summer_deaths_mean: ', summer_deaths_mean) \n",
    "print('autumn_deaths_mean: ', autumn_deaths_mean)"
   ]
  },
  {
   "cell_type": "markdown",
   "metadata": {},
   "source": [
    "# Можем ли мы быть уверены в значимости этой разности?\n",
    "It appears that there was a slight decrease in stroke deaths mean when the data was considered at colder time periods. It's a small change, but even small changes in deaths can have a large impact. But while we are certain of the difference in the data, how certain should we be that a stroke deaths mean at summer will be worse in the future?\n",
    "\n",
    "There are a couple of ways we can get at the certainty of these numbers. Here we will use bootstrapping: We will repeatedly re-sample our dataset (with replacement) and calculate stroke deaths mean for those samples. The variation in stroke deaths mean will give us an indication of how uncertain the stroke deaths mean numbers are."
   ]
  },
  {
   "cell_type": "code",
   "execution_count": 248,
   "metadata": {
    "collapsed": false
   },
   "outputs": [
    {
     "data": {
      "text/plain": [
       "<matplotlib.axes._subplots.AxesSubplot at 0x1dfd6340278>"
      ]
     },
     "execution_count": 248,
     "metadata": {},
     "output_type": "execute_result"
    },
    {
     "data": {
      "image/png": "[encoded data removed]",
      "text/plain": [
       "<matplotlib.figure.Figure at 0x1dfd6376128>"
      ]
     },
     "metadata": {},
     "output_type": "display_data"
    }
   ],
   "source": [
    "# Creating an list with bootstrapped means for each AB-group\n",
    "iterations = 1500\n",
    "boot_summer = []\n",
    "boot_autumn = []\n",
    "for i in range(iterations):\n",
    "    boot_summer_mean = florda_summer['DeathPerMillion'].sample(frac=1, replace=True).mean()\n",
    "    boot_autumn_mean = florda_autumn['DeathPerMillion'].sample(frac=1, replace=True).mean()\n",
    "    boot_summer.append(boot_summer_mean)\n",
    "    boot_autumn.append(boot_autumn_mean)\n",
    "    \n",
    "# Transforming the list to a DataFrame\n",
    "dictionary = {'Summer': boot_summer, 'Autumn': boot_autumn}\n",
    "boot_means = pd.DataFrame(data = dictionary)\n",
    "# A Kernel Density Estimate plot of the bootstrap distributions\n",
    "boot_means.plot.kde()"
   ]
  },
  {
   "cell_type": "markdown",
   "metadata": {},
   "source": [
    "##  Zooming in on the difference\n",
    "<p>These two distributions above represent the bootstrap uncertainty over what the underlying stroke deaths could be for the two AB-groups. Just eyeballing this plot, we can see that there seems to be some evidence of a difference, albeit small. Let's zoom in on the difference in stroke deaths</p>"
   ]
  },
  {
   "cell_type": "code",
   "execution_count": 249,
   "metadata": {
    "collapsed": false
   },
   "outputs": [
    {
     "data": {
      "image/png": "[encoded data removed]",
      "text/plain": [
       "<matplotlib.figure.Figure at 0x1dfd626cc88>"
      ]
     },
     "metadata": {},
     "output_type": "display_data"
    }
   ],
   "source": [
    "# Adding a column with the % difference between the two AB-groups\n",
    "boot_means['diff'] = (boot_means['Summer']-boot_means['Autumn'])/boot_means['Autumn']*100\n",
    "\n",
    "# Ploting the bootstrap % difference\n",
    "ax = boot_means['diff'].plot.kde()\n",
    "_ = ax.set_xlabel('the % of difference in seasones')\n",
    "_ = ax.set_ylabel('probability')"
   ]
  },
  {
   "cell_type": "code",
   "execution_count": 250,
   "metadata": {
    "collapsed": false
   },
   "outputs": [
    {
     "name": "stdout",
     "output_type": "stream",
     "text": [
      "0.6526666666666666\n"
     ]
    }
   ],
   "source": [
    "# Calculating the probability that stroke deaths is greater in summer\n",
    "prob = (boot_means['diff'] > 0).mean()\n",
    "\n",
    "# Pretty printing the probability\n",
    "print(prob)"
   ]
  },
  {
   "cell_type": "markdown",
   "metadata": {},
   "source": [
    "# Учет фактора космической погоды\n",
    "на сайте <p><a href=\"https://www.ngdc.noaa.gov/stp/space-weather/solar-data/solar-indices/\">www.ngdc.noaa.gov</a></p> взяли данные о вспышках на солнце"
   ]
  }
 ],
 "metadata": {
  "kernelspec": {
   "display_name": "Python 3",
   "language": "python",
   "name": "python3"
  },
  "language_info": {
   "codemirror_mode": {
    "name": "ipython",
    "version": 3
   },
   "file_extension": ".py",
   "mimetype": "text/x-python",
   "name": "python",
   "nbconvert_exporter": "python",
   "pygments_lexer": "ipython3",
   "version": "3.5.4"
  }
 },
 "nbformat": 4,
 "nbformat_minor": 2
}
