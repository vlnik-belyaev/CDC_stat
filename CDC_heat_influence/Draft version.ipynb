{
 "cells": [
  {
   "cell_type": "markdown",
   "metadata": {},
   "source": [
    "# Описание проекта\n",
    "Здесь должно находиться Лого проекта, и его описание. Мотивация, средства. Указать ссылки на используемые ресурсы. Так как ипользуется html, то все картинки должны быть расположены на доступных сервисах\n",
    "\n",
    "Можно указать, что используется вычислительная платформа Анаконда (Картинки logo Anaconda & Jupyter)\n",
    "<p><img class=\"logo logo-dark\" alt=\"logo\" src=\"https://www.anaconda.com/wp-content/themes/anaconda/images/logo-dark.png\"></p>"
   ]
  },
  {
   "cell_type": "code",
   "execution_count": 1,
   "metadata": {
    "collapsed": true
   },
   "outputs": [],
   "source": [
    "#some initial setup\n",
    "# Importing pandas\n",
    "import pandas as pd\n",
    "# This command makes plots appear in the notebook\n",
    "%matplotlib inline"
   ]
  },
  {
   "cell_type": "markdown",
   "metadata": {},
   "source": [
    "# Загрузка данных\n",
    "<p><img class=\"logo logo-dark\" alt=\"logo\" src=\"https://www.anaconda.com/wp-content/themes/anaconda/images/logo-dark.png\"></p>\n",
    "Первоначально данные загружаются с ресурса <a href=\"https://wonder.cdc.gov\">CDC WONDER</a> в виде текстовых файлов. Затем эти сырые данные нужно загрузить в память в так называемые фреймы данных <b>pandas</b>:"
   ]
  },
  {
   "cell_type": "code",
   "execution_count": 11,
   "metadata": {
    "collapsed": false
   },
   "outputs": [
    {
     "name": "stdout",
     "output_type": "stream",
     "text": [
      "   Notes       State  State Code  Year  Year Code Month  Month Code  \\\n",
      "0    NaN  California           6  1999       1999   Jan           1   \n",
      "1    NaN  California           6  1999       1999   Jan           1   \n",
      "2    NaN  California           6  1999       1999   Jan           1   \n",
      "3    NaN  California           6  1999       1999   Jan           1   \n",
      "4    NaN  California           6  1999       1999   Jan           1   \n",
      "\n",
      "   Day of Month  Day of Month Code  Avg Daily Max Air Temperature (C)  \n",
      "0             1                  1                              13.35  \n",
      "1             2                  2                              14.78  \n",
      "2             3                  3                              13.77  \n",
      "3             4                  4                              14.32  \n",
      "4             5                  5                              14.89  \n"
     ]
    }
   ],
   "source": [
    "# Assign filename: file\n",
    "file = 'datasets/maxTempByMonthYear1999-2011completeCalifornia.txt'\n",
    "\n",
    "# Import file: data\n",
    "raw_temp_data = pd.read_csv(file, sep='\\t', converters={\"Year\":int, 'Month Code':int, 'Day of Month':int,'Avg Daily Max Air Temperature (C)':float})\n",
    "\n",
    "# Print the head of the DataFrame\n",
    "print(raw_temp_data.head())"
   ]
  },
  {
   "cell_type": "markdown",
   "metadata": {},
   "source": [
    "Теперь нужно избавиться от лишнего, создадим новый фрейм с колонками для дат и максимальной температуры:"
   ]
  },
  {
   "cell_type": "code",
   "execution_count": 12,
   "metadata": {
    "collapsed": false
   },
   "outputs": [
    {
     "name": "stdout",
     "output_type": "stream",
     "text": [
      "<class 'pandas.core.frame.DataFrame'>\n",
      "RangeIndex: 4514 entries, 0 to 4513\n",
      "Data columns (total 10 columns):\n",
      "Notes                                0 non-null float64\n",
      "State                                4514 non-null object\n",
      "State Code                           4514 non-null int64\n",
      "Year                                 4514 non-null int64\n",
      "Year Code                            4514 non-null int64\n",
      "Month                                4514 non-null object\n",
      "Month Code                           4514 non-null int64\n",
      "Day of Month                         4514 non-null int64\n",
      "Day of Month Code                    4514 non-null int64\n",
      "Avg Daily Max Air Temperature (C)    4514 non-null float64\n",
      "dtypes: float64(2), int64(6), object(2)\n",
      "memory usage: 352.7+ KB\n"
     ]
    }
   ],
   "source": [
    "raw_temp_data.info()"
   ]
  },
  {
   "cell_type": "code",
   "execution_count": 13,
   "metadata": {
    "collapsed": true
   },
   "outputs": [],
   "source": [
    "california_temp_data = raw_temp_data[['State', 'Year', 'Month Code', 'Day of Month', 'Avg Daily Max Air Temperature (C)']]"
   ]
  },
  {
   "cell_type": "code",
   "execution_count": 14,
   "metadata": {
    "collapsed": false
   },
   "outputs": [
    {
     "data": {
      "text/html": [
       "<div>\n",
       "<style>\n",
       "    .dataframe thead tr:only-child th {\n",
       "        text-align: right;\n",
       "    }\n",
       "\n",
       "    .dataframe thead th {\n",
       "        text-align: left;\n",
       "    }\n",
       "\n",
       "    .dataframe tbody tr th {\n",
       "        vertical-align: top;\n",
       "    }\n",
       "</style>\n",
       "<table border=\"1\" class=\"dataframe\">\n",
       "  <thead>\n",
       "    <tr style=\"text-align: right;\">\n",
       "      <th></th>\n",
       "      <th>State</th>\n",
       "      <th>Year</th>\n",
       "      <th>Month Code</th>\n",
       "      <th>Day of Month</th>\n",
       "      <th>Avg Daily Max Air Temperature (C)</th>\n",
       "    </tr>\n",
       "  </thead>\n",
       "  <tbody>\n",
       "    <tr>\n",
       "      <th>0</th>\n",
       "      <td>California</td>\n",
       "      <td>1999</td>\n",
       "      <td>1</td>\n",
       "      <td>1</td>\n",
       "      <td>13.35</td>\n",
       "    </tr>\n",
       "    <tr>\n",
       "      <th>1</th>\n",
       "      <td>California</td>\n",
       "      <td>1999</td>\n",
       "      <td>1</td>\n",
       "      <td>2</td>\n",
       "      <td>14.78</td>\n",
       "    </tr>\n",
       "    <tr>\n",
       "      <th>2</th>\n",
       "      <td>California</td>\n",
       "      <td>1999</td>\n",
       "      <td>1</td>\n",
       "      <td>3</td>\n",
       "      <td>13.77</td>\n",
       "    </tr>\n",
       "    <tr>\n",
       "      <th>3</th>\n",
       "      <td>California</td>\n",
       "      <td>1999</td>\n",
       "      <td>1</td>\n",
       "      <td>4</td>\n",
       "      <td>14.32</td>\n",
       "    </tr>\n",
       "    <tr>\n",
       "      <th>4</th>\n",
       "      <td>California</td>\n",
       "      <td>1999</td>\n",
       "      <td>1</td>\n",
       "      <td>5</td>\n",
       "      <td>14.89</td>\n",
       "    </tr>\n",
       "  </tbody>\n",
       "</table>\n",
       "</div>"
      ],
      "text/plain": [
       "        State  Year  Month Code  Day of Month  \\\n",
       "0  California  1999           1             1   \n",
       "1  California  1999           1             2   \n",
       "2  California  1999           1             3   \n",
       "3  California  1999           1             4   \n",
       "4  California  1999           1             5   \n",
       "\n",
       "   Avg Daily Max Air Temperature (C)  \n",
       "0                              13.35  \n",
       "1                              14.78  \n",
       "2                              13.77  \n",
       "3                              14.32  \n",
       "4                              14.89  "
      ]
     },
     "execution_count": 14,
     "metadata": {},
     "output_type": "execute_result"
    }
   ],
   "source": [
    "california_temp_data.head()"
   ]
  },
  {
   "cell_type": "code",
   "execution_count": 15,
   "metadata": {
    "collapsed": true
   },
   "outputs": [],
   "source": [
    "california_temp_data.columns = ['state','year', 'month','day','max_temp']"
   ]
  },
  {
   "cell_type": "code",
   "execution_count": 16,
   "metadata": {
    "collapsed": false
   },
   "outputs": [
    {
     "data": {
      "text/html": [
       "<div>\n",
       "<style>\n",
       "    .dataframe thead tr:only-child th {\n",
       "        text-align: right;\n",
       "    }\n",
       "\n",
       "    .dataframe thead th {\n",
       "        text-align: left;\n",
       "    }\n",
       "\n",
       "    .dataframe tbody tr th {\n",
       "        vertical-align: top;\n",
       "    }\n",
       "</style>\n",
       "<table border=\"1\" class=\"dataframe\">\n",
       "  <thead>\n",
       "    <tr style=\"text-align: right;\">\n",
       "      <th></th>\n",
       "      <th>state</th>\n",
       "      <th>year</th>\n",
       "      <th>month</th>\n",
       "      <th>day</th>\n",
       "      <th>max_temp</th>\n",
       "    </tr>\n",
       "  </thead>\n",
       "  <tbody>\n",
       "    <tr>\n",
       "      <th>0</th>\n",
       "      <td>California</td>\n",
       "      <td>1999</td>\n",
       "      <td>1</td>\n",
       "      <td>1</td>\n",
       "      <td>13.35</td>\n",
       "    </tr>\n",
       "    <tr>\n",
       "      <th>1</th>\n",
       "      <td>California</td>\n",
       "      <td>1999</td>\n",
       "      <td>1</td>\n",
       "      <td>2</td>\n",
       "      <td>14.78</td>\n",
       "    </tr>\n",
       "    <tr>\n",
       "      <th>2</th>\n",
       "      <td>California</td>\n",
       "      <td>1999</td>\n",
       "      <td>1</td>\n",
       "      <td>3</td>\n",
       "      <td>13.77</td>\n",
       "    </tr>\n",
       "    <tr>\n",
       "      <th>3</th>\n",
       "      <td>California</td>\n",
       "      <td>1999</td>\n",
       "      <td>1</td>\n",
       "      <td>4</td>\n",
       "      <td>14.32</td>\n",
       "    </tr>\n",
       "    <tr>\n",
       "      <th>4</th>\n",
       "      <td>California</td>\n",
       "      <td>1999</td>\n",
       "      <td>1</td>\n",
       "      <td>5</td>\n",
       "      <td>14.89</td>\n",
       "    </tr>\n",
       "  </tbody>\n",
       "</table>\n",
       "</div>"
      ],
      "text/plain": [
       "        state  year  month  day  max_temp\n",
       "0  California  1999      1    1     13.35\n",
       "1  California  1999      1    2     14.78\n",
       "2  California  1999      1    3     13.77\n",
       "3  California  1999      1    4     14.32\n",
       "4  California  1999      1    5     14.89"
      ]
     },
     "execution_count": 16,
     "metadata": {},
     "output_type": "execute_result"
    }
   ],
   "source": [
    "california_temp_data.head()"
   ]
  },
  {
   "cell_type": "code",
   "execution_count": 24,
   "metadata": {
    "collapsed": false
   },
   "outputs": [],
   "source": [
    "california_summer_temp_data = california_temp_data[(california_temp_data['month']>=5) & (california_temp_data['month']<=9)]"
   ]
  },
  {
   "cell_type": "code",
   "execution_count": 26,
   "metadata": {
    "collapsed": false
   },
   "outputs": [
    {
     "name": "stdout",
     "output_type": "stream",
     "text": [
      "<class 'pandas.core.frame.DataFrame'>\n",
      "Int64Index: 1989 entries, 113 to 4429\n",
      "Data columns (total 5 columns):\n",
      "state       1989 non-null object\n",
      "year        1989 non-null int64\n",
      "month       1989 non-null int64\n",
      "day         1989 non-null int64\n",
      "max_temp    1989 non-null float64\n",
      "dtypes: float64(1), int64(3), object(1)\n",
      "memory usage: 93.2+ KB\n"
     ]
    }
   ],
   "source": [
    "california_summer_temp_data.info()"
   ]
  },
  {
   "cell_type": "code",
   "execution_count": 27,
   "metadata": {
    "collapsed": false
   },
   "outputs": [
    {
     "data": {
      "text/html": [
       "<div>\n",
       "<style>\n",
       "    .dataframe thead tr:only-child th {\n",
       "        text-align: right;\n",
       "    }\n",
       "\n",
       "    .dataframe thead th {\n",
       "        text-align: left;\n",
       "    }\n",
       "\n",
       "    .dataframe tbody tr th {\n",
       "        vertical-align: top;\n",
       "    }\n",
       "</style>\n",
       "<table border=\"1\" class=\"dataframe\">\n",
       "  <thead>\n",
       "    <tr style=\"text-align: right;\">\n",
       "      <th></th>\n",
       "      <th>state</th>\n",
       "      <th>year</th>\n",
       "      <th>month</th>\n",
       "      <th>day</th>\n",
       "      <th>max_temp</th>\n",
       "    </tr>\n",
       "  </thead>\n",
       "  <tbody>\n",
       "    <tr>\n",
       "      <th>113</th>\n",
       "      <td>California</td>\n",
       "      <td>1999</td>\n",
       "      <td>5</td>\n",
       "      <td>1</td>\n",
       "      <td>18.79</td>\n",
       "    </tr>\n",
       "    <tr>\n",
       "      <th>114</th>\n",
       "      <td>California</td>\n",
       "      <td>1999</td>\n",
       "      <td>5</td>\n",
       "      <td>2</td>\n",
       "      <td>15.01</td>\n",
       "    </tr>\n",
       "    <tr>\n",
       "      <th>115</th>\n",
       "      <td>California</td>\n",
       "      <td>1999</td>\n",
       "      <td>5</td>\n",
       "      <td>3</td>\n",
       "      <td>12.95</td>\n",
       "    </tr>\n",
       "    <tr>\n",
       "      <th>116</th>\n",
       "      <td>California</td>\n",
       "      <td>1999</td>\n",
       "      <td>5</td>\n",
       "      <td>4</td>\n",
       "      <td>16.11</td>\n",
       "    </tr>\n",
       "    <tr>\n",
       "      <th>117</th>\n",
       "      <td>California</td>\n",
       "      <td>1999</td>\n",
       "      <td>5</td>\n",
       "      <td>5</td>\n",
       "      <td>22.11</td>\n",
       "    </tr>\n",
       "    <tr>\n",
       "      <th>118</th>\n",
       "      <td>California</td>\n",
       "      <td>1999</td>\n",
       "      <td>5</td>\n",
       "      <td>6</td>\n",
       "      <td>23.43</td>\n",
       "    </tr>\n",
       "    <tr>\n",
       "      <th>119</th>\n",
       "      <td>California</td>\n",
       "      <td>1999</td>\n",
       "      <td>5</td>\n",
       "      <td>7</td>\n",
       "      <td>20.93</td>\n",
       "    </tr>\n",
       "    <tr>\n",
       "      <th>120</th>\n",
       "      <td>California</td>\n",
       "      <td>1999</td>\n",
       "      <td>5</td>\n",
       "      <td>8</td>\n",
       "      <td>19.19</td>\n",
       "    </tr>\n",
       "    <tr>\n",
       "      <th>121</th>\n",
       "      <td>California</td>\n",
       "      <td>1999</td>\n",
       "      <td>5</td>\n",
       "      <td>9</td>\n",
       "      <td>18.02</td>\n",
       "    </tr>\n",
       "    <tr>\n",
       "      <th>122</th>\n",
       "      <td>California</td>\n",
       "      <td>1999</td>\n",
       "      <td>5</td>\n",
       "      <td>10</td>\n",
       "      <td>19.22</td>\n",
       "    </tr>\n",
       "  </tbody>\n",
       "</table>\n",
       "</div>"
      ],
      "text/plain": [
       "          state  year  month  day  max_temp\n",
       "113  California  1999      5    1     18.79\n",
       "114  California  1999      5    2     15.01\n",
       "115  California  1999      5    3     12.95\n",
       "116  California  1999      5    4     16.11\n",
       "117  California  1999      5    5     22.11\n",
       "118  California  1999      5    6     23.43\n",
       "119  California  1999      5    7     20.93\n",
       "120  California  1999      5    8     19.19\n",
       "121  California  1999      5    9     18.02\n",
       "122  California  1999      5   10     19.22"
      ]
     },
     "execution_count": 27,
     "metadata": {},
     "output_type": "execute_result"
    }
   ],
   "source": [
    "california_summer_temp_data.head(10)"
   ]
  },
  {
   "cell_type": "code",
   "execution_count": 28,
   "metadata": {
    "collapsed": true
   },
   "outputs": [],
   "source": [
    "df_1999 = california_summer_temp_data[california_summer_temp_data['year']==1999]"
   ]
  },
  {
   "cell_type": "code",
   "execution_count": 32,
   "metadata": {
    "collapsed": false
   },
   "outputs": [
    {
     "data": {
      "image/png": "[encoded data removed]",
      "text/plain": [
       "<matplotlib.figure.Figure at 0x1dfd0fafcc0>"
      ]
     },
     "metadata": {},
     "output_type": "display_data"
    }
   ],
   "source": [
    "ax = df_1999.plot(x=30*df_1999['month']+df_1999['day'], y = 'max_temp')\n",
    "_ = ax.set_xlabel(\"day number, 1999\")\n",
    "_ = ax.set_ylabel(\"maximum temperature, (C)\")"
   ]
  },
  {
   "cell_type": "markdown",
   "metadata": {},
   "source": [
    "Теперь попробуем сгруппировать данные по годам и месяцам:"
   ]
  },
  {
   "cell_type": "code",
   "execution_count": 33,
   "metadata": {
    "collapsed": false
   },
   "outputs": [
    {
     "data": {
      "text/plain": [
       "year  month\n",
       "1999  5        28.14\n",
       "      6        33.99\n",
       "      7        34.54\n",
       "      8        35.07\n",
       "      9        31.19\n",
       "2000  5        31.60\n",
       "      6        34.78\n",
       "      7        36.10\n",
       "      8        36.40\n",
       "      9        33.73\n",
       "2001  5        33.67\n",
       "      6        33.70\n",
       "      7        37.19\n",
       "      8        36.42\n",
       "      9        32.78\n",
       "2002  5        30.93\n",
       "      6        32.33\n",
       "      7        37.41\n",
       "      8        36.70\n",
       "      9        35.02\n",
       "2003  5        32.44\n",
       "      6        34.43\n",
       "      7        35.98\n",
       "      8        34.75\n",
       "      9        34.18\n",
       "2004  5        29.49\n",
       "      6        31.25\n",
       "      7        34.70\n",
       "      8        36.88\n",
       "      9        33.90\n",
       "               ...  \n",
       "2006  5        29.98\n",
       "      6        35.68\n",
       "      7        38.41\n",
       "      8        33.86\n",
       "      9        34.23\n",
       "2007  5        28.46\n",
       "      6        32.60\n",
       "      7        38.09\n",
       "      8        36.12\n",
       "      9        34.79\n",
       "2008  5        32.27\n",
       "      6        34.08\n",
       "      7        37.14\n",
       "      8        35.91\n",
       "      9        35.37\n",
       "2009  5        32.85\n",
       "      6        35.05\n",
       "      7        37.13\n",
       "      8        35.62\n",
       "      9        35.30\n",
       "2010  5        25.51\n",
       "      6        33.21\n",
       "      7        35.58\n",
       "      8        37.01\n",
       "      9        34.63\n",
       "2011  5        25.99\n",
       "      6        32.67\n",
       "      7        33.74\n",
       "      8        34.21\n",
       "      9        33.28\n",
       "Name: max_temp, Length: 65, dtype: float64"
      ]
     },
     "execution_count": 33,
     "metadata": {},
     "output_type": "execute_result"
    }
   ],
   "source": [
    "california_summer_temp_data.groupby(['year','month'])['max_temp'].max()"
   ]
  },
  {
   "cell_type": "markdown",
   "metadata": {},
   "source": [
    "# Данные о смертности от инсультов\n",
    "\n",
    "Мы получили ежемесячные данные о смертности от сосудистых заболеваний по всем штатам США за период с 1999 по 2011 годы.\n",
    "Нужно выделить данные о смертности от инсультов:"
   ]
  },
  {
   "cell_type": "code",
   "execution_count": 34,
   "metadata": {
    "collapsed": false
   },
   "outputs": [
    {
     "name": "stdout",
     "output_type": "stream",
     "text": [
      "   Notes    State  State Code  Year  Year Code       Month Month Code  \\\n",
      "0    NaN  Alabama           1  1999       1999  Jan., 1999    1999/01   \n",
      "1    NaN  Alabama           1  1999       1999  Jan., 1999    1999/01   \n",
      "2    NaN  Alabama           1  1999       1999  Jan., 1999    1999/01   \n",
      "3    NaN  Alabama           1  1999       1999  Jan., 1999    1999/01   \n",
      "4    NaN  Alabama           1  1999       1999  Feb., 1999    1999/02   \n",
      "\n",
      "                                      Cause of death Cause of death Code  \\\n",
      "0              Subarachnoid haemorrhage, unspecified               I60.9   \n",
      "1             Intracerebral haemorrhage, unspecified               I61.9   \n",
      "2                   Cerebral infarction, unspecified               I63.9   \n",
      "3  Stroke, not specified as haemorrhage or infarc...                 I64   \n",
      "4             Intracerebral haemorrhage, unspecified               I61.9   \n",
      "\n",
      "   Deaths      Population      Crude Rate  \n",
      "0      12  Not Applicable  Not Applicable  \n",
      "1      29  Not Applicable  Not Applicable  \n",
      "2      13  Not Applicable  Not Applicable  \n",
      "3     107  Not Applicable  Not Applicable  \n",
      "4      16  Not Applicable  Not Applicable  \n"
     ]
    }
   ],
   "source": [
    "# Assign filename: file\n",
    "file = 'datasets/causeOfDeathAllStates01_56_I00-I78_1999-2011.txt'\n",
    "\n",
    "# Import file: data\n",
    "#raw_temp_data = pd.read_csv(file, sep='\\t', converters={\"Year\":int, 'Month Code':int, 'Day of Month':int,'Avg Daily Max Air Temperature (C)':float})\n",
    "raw_death_data = pd.read_csv(file, sep='\\t')\n",
    "# Print the head of the DataFrame\n",
    "print(raw_death_data.head())"
   ]
  },
  {
   "cell_type": "code",
   "execution_count": 37,
   "metadata": {
    "collapsed": false
   },
   "outputs": [],
   "source": [
    "death_data = raw_death_data[['State', 'Year', 'Month Code', 'Cause of death Code', 'Deaths']]"
   ]
  },
  {
   "cell_type": "code",
   "execution_count": 38,
   "metadata": {
    "collapsed": true
   },
   "outputs": [],
   "source": [
    "stroke_death_data = death_data[death_data['Cause of death Code']=='I64']"
   ]
  },
  {
   "cell_type": "code",
   "execution_count": 39,
   "metadata": {
    "collapsed": false
   },
   "outputs": [
    {
     "data": {
      "text/html": [
       "<div>\n",
       "<style>\n",
       "    .dataframe thead tr:only-child th {\n",
       "        text-align: right;\n",
       "    }\n",
       "\n",
       "    .dataframe thead th {\n",
       "        text-align: left;\n",
       "    }\n",
       "\n",
       "    .dataframe tbody tr th {\n",
       "        vertical-align: top;\n",
       "    }\n",
       "</style>\n",
       "<table border=\"1\" class=\"dataframe\">\n",
       "  <thead>\n",
       "    <tr style=\"text-align: right;\">\n",
       "      <th></th>\n",
       "      <th>State</th>\n",
       "      <th>Year</th>\n",
       "      <th>Month Code</th>\n",
       "      <th>Cause of death Code</th>\n",
       "      <th>Deaths</th>\n",
       "    </tr>\n",
       "  </thead>\n",
       "  <tbody>\n",
       "    <tr>\n",
       "      <th>3</th>\n",
       "      <td>Alabama</td>\n",
       "      <td>1999</td>\n",
       "      <td>1999/01</td>\n",
       "      <td>I64</td>\n",
       "      <td>107</td>\n",
       "    </tr>\n",
       "    <tr>\n",
       "      <th>5</th>\n",
       "      <td>Alabama</td>\n",
       "      <td>1999</td>\n",
       "      <td>1999/02</td>\n",
       "      <td>I64</td>\n",
       "      <td>98</td>\n",
       "    </tr>\n",
       "    <tr>\n",
       "      <th>8</th>\n",
       "      <td>Alabama</td>\n",
       "      <td>1999</td>\n",
       "      <td>1999/03</td>\n",
       "      <td>I64</td>\n",
       "      <td>114</td>\n",
       "    </tr>\n",
       "    <tr>\n",
       "      <th>10</th>\n",
       "      <td>Alabama</td>\n",
       "      <td>1999</td>\n",
       "      <td>1999/04</td>\n",
       "      <td>I64</td>\n",
       "      <td>91</td>\n",
       "    </tr>\n",
       "    <tr>\n",
       "      <th>12</th>\n",
       "      <td>Alabama</td>\n",
       "      <td>1999</td>\n",
       "      <td>1999/05</td>\n",
       "      <td>I64</td>\n",
       "      <td>89</td>\n",
       "    </tr>\n",
       "  </tbody>\n",
       "</table>\n",
       "</div>"
      ],
      "text/plain": [
       "      State  Year Month Code Cause of death Code  Deaths\n",
       "3   Alabama  1999    1999/01                 I64     107\n",
       "5   Alabama  1999    1999/02                 I64      98\n",
       "8   Alabama  1999    1999/03                 I64     114\n",
       "10  Alabama  1999    1999/04                 I64      91\n",
       "12  Alabama  1999    1999/05                 I64      89"
      ]
     },
     "execution_count": 39,
     "metadata": {},
     "output_type": "execute_result"
    }
   ],
   "source": [
    "stroke_death_data.head()"
   ]
  },
  {
   "cell_type": "code",
   "execution_count": 40,
   "metadata": {
    "collapsed": false
   },
   "outputs": [
    {
     "data": {
      "text/html": [
       "<div>\n",
       "<style>\n",
       "    .dataframe thead tr:only-child th {\n",
       "        text-align: right;\n",
       "    }\n",
       "\n",
       "    .dataframe thead th {\n",
       "        text-align: left;\n",
       "    }\n",
       "\n",
       "    .dataframe tbody tr th {\n",
       "        vertical-align: top;\n",
       "    }\n",
       "</style>\n",
       "<table border=\"1\" class=\"dataframe\">\n",
       "  <thead>\n",
       "    <tr style=\"text-align: right;\">\n",
       "      <th></th>\n",
       "      <th>State</th>\n",
       "      <th>Year</th>\n",
       "      <th>Month Code</th>\n",
       "      <th>Cause of death Code</th>\n",
       "      <th>Deaths</th>\n",
       "    </tr>\n",
       "  </thead>\n",
       "  <tbody>\n",
       "    <tr>\n",
       "      <th>22261</th>\n",
       "      <td>Wyoming</td>\n",
       "      <td>2004</td>\n",
       "      <td>2004/07</td>\n",
       "      <td>I64</td>\n",
       "      <td>10</td>\n",
       "    </tr>\n",
       "    <tr>\n",
       "      <th>22262</th>\n",
       "      <td>Wyoming</td>\n",
       "      <td>2005</td>\n",
       "      <td>2005/02</td>\n",
       "      <td>I64</td>\n",
       "      <td>10</td>\n",
       "    </tr>\n",
       "    <tr>\n",
       "      <th>22263</th>\n",
       "      <td>Wyoming</td>\n",
       "      <td>2005</td>\n",
       "      <td>2005/07</td>\n",
       "      <td>I64</td>\n",
       "      <td>11</td>\n",
       "    </tr>\n",
       "    <tr>\n",
       "      <th>22264</th>\n",
       "      <td>Wyoming</td>\n",
       "      <td>2006</td>\n",
       "      <td>2006/09</td>\n",
       "      <td>I64</td>\n",
       "      <td>11</td>\n",
       "    </tr>\n",
       "    <tr>\n",
       "      <th>22265</th>\n",
       "      <td>Wyoming</td>\n",
       "      <td>2007</td>\n",
       "      <td>2007/10</td>\n",
       "      <td>I64</td>\n",
       "      <td>10</td>\n",
       "    </tr>\n",
       "  </tbody>\n",
       "</table>\n",
       "</div>"
      ],
      "text/plain": [
       "         State  Year Month Code Cause of death Code  Deaths\n",
       "22261  Wyoming  2004    2004/07                 I64      10\n",
       "22262  Wyoming  2005    2005/02                 I64      10\n",
       "22263  Wyoming  2005    2005/07                 I64      11\n",
       "22264  Wyoming  2006    2006/09                 I64      11\n",
       "22265  Wyoming  2007    2007/10                 I64      10"
      ]
     },
     "execution_count": 40,
     "metadata": {},
     "output_type": "execute_result"
    }
   ],
   "source": [
    "stroke_death_data.tail()"
   ]
  },
  {
   "cell_type": "code",
   "execution_count": 43,
   "metadata": {
    "collapsed": false
   },
   "outputs": [
    {
     "data": {
      "text/plain": [
       "<matplotlib.axes._subplots.AxesSubplot at 0x1dfd1b0ee10>"
      ]
     },
     "execution_count": 43,
     "metadata": {},
     "output_type": "execute_result"
    },
    {
     "data": {
      "image/png": "[encoded data removed]",
      "text/plain": [
       "<matplotlib.figure.Figure at 0x1dfd15ed240>"
      ]
     },
     "metadata": {},
     "output_type": "display_data"
    }
   ],
   "source": [
    "stroke_death_data.boxplot(by='State', \n",
    "                       column=['Deaths'], \n",
    "                       grid=False, rot=90, fontsize=5)"
   ]
  }
 ],
 "metadata": {
  "kernelspec": {
   "display_name": "Python 3",
   "language": "python",
   "name": "python3"
  },
  "language_info": {
   "codemirror_mode": {
    "name": "ipython",
    "version": 3
   },
   "file_extension": ".py",
   "mimetype": "text/x-python",
   "name": "python",
   "nbconvert_exporter": "python",
   "pygments_lexer": "ipython3",
   "version": "3.5.4"
  }
 },
 "nbformat": 4,
 "nbformat_minor": 2
}
